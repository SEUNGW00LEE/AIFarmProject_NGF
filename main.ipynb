{
 "cells": [
  {
   "cell_type": "code",
   "execution_count": 1,
   "metadata": {},
   "outputs": [],
   "source": [
    "# 알고리즘 관련 라이브러리들\n",
    "from sklearn.model_selection import train_test_split\n",
    "from sklearn.metrics import mean_squared_error, r2_score\n",
    "import tensorflow as tf"
   ]
  },
  {
   "cell_type": "code",
   "execution_count": 2,
   "metadata": {},
   "outputs": [],
   "source": [
    "# 필요한 라이브러리 임포트\n",
    "import pandas as pd\n",
    "import numpy as np"
   ]
  },
  {
   "cell_type": "code",
   "execution_count": 3,
   "metadata": {},
   "outputs": [],
   "source": [
    "# 가상환경 설정 ******\n",
    "# myenv\\Scripts\\activate\n",
    "\n",
    "# 데이터 로딩\n",
    "raw_data = pd.read_excel('tomato.xlsx', skiprows=3, usecols=\"D:N\", header=0, sheet_name=1)"
   ]
  },
  {
   "cell_type": "code",
   "execution_count": 4,
   "metadata": {},
   "outputs": [],
   "source": [
    "\n",
    "# 엑셀 파일 전체 읽기\n",
    "# raw_data = pd.read_excel('tomato.xlsx')\n",
    "\n",
    "# 첫 번째 시트만 읽어오기 (인덱스 0)\n",
    "# raw_data = pd.read_excel('tomato.xlsx', sheet_name=0)\n",
    "\n",
    "# 3행을 건너뛰고 읽기 시작. 4번째 행을 컬럼명으로 사용.\n",
    "# 열 이름으로 지정하여 가져올때 (열 이름이 'name', 'age', 'address'일 때) : usecols=['name', 'age', 'address']\n",
    "# 열 인덱스로 지정 (0부터 시작) : usecols=[0, 2, 4]\n",
    "# 열 범위로 지정 : usecols=\"D:N\" (칼럼중 착과화방수, 수확화방수의 뜻이 모호해 데이터에 포함하지 않음)\n",
    "\n",
    "raw_data = pd.read_excel('tomato.xlsx', skiprows=3, usecols=\"D:N\", header=0, sheet_name=1)"
   ]
  },
  {
   "cell_type": "code",
   "execution_count": 5,
   "metadata": {},
   "outputs": [],
   "source": [
    "#소수점 아래 원하는 자릿수만큼만 표시\n",
    "pd.set_option('display.float_format', '{:.2f}'.format)"
   ]
  },
  {
   "cell_type": "code",
   "execution_count": 6,
   "metadata": {},
   "outputs": [],
   "source": [
    "# 평균값이 들어가 있는 행을 삭제 : 평균의값의 의미가 모호함 , 마지막의 평균품종값도 제거하였음\n",
    "raw_data.drop([3, 7, 11, 15, 16], axis=0, inplace=True)"
   ]
  },
  {
   "cell_type": "code",
   "execution_count": 7,
   "metadata": {},
   "outputs": [],
   "source": [
    "# 처음부터 11행까지만 남기고 나머지는 삭제 : 데이터가 들어 있지 않은 행도 모두 표현되기 때문 \n",
    "raw_data = raw_data.iloc[:12]\n",
    "# raw_data의 값을 다시 재정렬\n",
    "raw_data.reset_index(drop=True, inplace=True)"
   ]
  },
  {
   "cell_type": "code",
   "execution_count": 8,
   "metadata": {},
   "outputs": [
    {
     "name": "stdout",
     "output_type": "stream",
     "text": [
      "전체 행의 수: 12\n"
     ]
    }
   ],
   "source": [
    "# 전체 행의 수를 출력해 제대로 정제 되었는지 확인 \n",
    "print(\"전체 행의 수:\", raw_data.shape[0])"
   ]
  },
  {
   "cell_type": "code",
   "execution_count": 9,
   "metadata": {},
   "outputs": [
    {
     "name": "stdout",
     "output_type": "stream",
     "text": [
      "       ㎝     ㎜  ㎜.1   ㎝.1    ea  ㎝.2   ㎝.3   ㎝.4   ㎝.5  ea.1  ea.2\n",
      "0  25.00 10.98 3.24 20.00 15.50 4.20 33.30 33.30 21.00 16.00 23.00\n",
      "1  21.50 13.06 4.02 31.00    16 4.90 35.00 35.00 27.00 14.00 20.00\n",
      "2  21.00  9.48 2.19 19.00 15.75 3.20 35.50 32.50 21.00 14.00 21.00\n",
      "3  23.50 13.23 3.25 35.50    17 4.20 32.50 41.50 34.90 10.00 23.00\n",
      "4  24.90 12.20 3.28 39.30 15.95 4.40 36.00 39.00 32.50 11.00 22.00\n",
      "5  22.30 14.23 3.75 32.00    17 4.60 55.00 37.00 31.20 12.00 20.00\n",
      "6  22.50 14.20 3.82 41.00 16.50 6.00 33.50 42.00 38.00 13.00 16.00\n",
      "7  20.00 11.86 3.16 23.00    16 5.60 36.00 42.50 31.90 12.00 18.00\n",
      "8  22.60 12.62 2.75 27.90 16.50 4.00 33.60 35.50 31.50 13.00 16.00\n",
      "9  17.00 14.18 4.14 32.00 14.95 3.80 31.50 39.50 34.00 14.00 17.00\n",
      "10 24.00 12.09 2.32 39.00 15.25 5.60 33.00 38.00 34.20 17.00 20.00\n",
      "11 23.00 11.08 4.01 20.50 15.50 4.00 31.50 37.00 22.00 16.00 19.00\n"
     ]
    }
   ],
   "source": [
    "# 모든행을 출력하여 데이터가 df에 제대로 들어가 있는지 확인\n",
    "# pd.set_option('display.max_rows', None)  # None으로 설정하면 모든 행을 출력\n",
    "print(raw_data)"
   ]
  },
  {
   "cell_type": "code",
   "execution_count": 10,
   "metadata": {},
   "outputs": [],
   "source": [
    "# cm와 mm 통일 : cm의 값이 많으므로 cm로 단위를 통일하였음\n",
    "raw_data['㎜'] /= 10\n",
    "raw_data['㎜.1'] /= 10"
   ]
  },
  {
   "cell_type": "code",
   "execution_count": 11,
   "metadata": {},
   "outputs": [
    {
     "name": "stdout",
     "output_type": "stream",
     "text": [
      "Index(['㎝', '㎜', '㎜.1', '㎝.1', 'ea', '㎝.2', '㎝.3', '㎝.4', '㎝.5', 'ea.1',\n",
      "       'ea.2'],\n",
      "      dtype='object')\n"
     ]
    }
   ],
   "source": [
    "#칼럼들의 이름확인\n",
    "print(raw_data.columns)"
   ]
  },
  {
   "cell_type": "code",
   "execution_count": 12,
   "metadata": {},
   "outputs": [],
   "source": [
    "# 칼럼의 이름을 알수 있게 변경 \n",
    "# 초장 경경 화방경경 개화위치 개화수 화방줄기거리 화방간거리\n",
    "# ㎝   ㎜   ㎜.1    ㎝.1     ea     ㎝.2       ㎝.3\n",
    "# 엽장 엽폭 엽수    착과량      착과화방수 수확화방수\n",
    "# ㎝.4 ㎝.5 ea.1    ea.2       ea.3      ea.4\n",
    "new_column_names = {\n",
    "    '㎝': 'cm_chojang_len', '㎜': 'cm_julgi_len', '㎜.1': 'cm_hwabang_len',\n",
    "    '㎝.1': 'cm_gyahwa_loca','ea': 'cm_gyahwa_ea', '㎝.2': 'cm_hwabangJulgi_len', '㎝.3': 'cm_hwabanggan_len',\n",
    "    '㎝.4': 'cm_yebjang_len','㎝.5': 'cm_yebjang_wid', 'ea.1': 'cm_yeb_ea',\n",
    "    'ea.2': 'cm_gyasu_num',\n",
    "    # 다른 이름들도 이런 식으로 변경\n",
    "}\n",
    "raw_data.rename(columns=new_column_names, inplace=True)"
   ]
  },
  {
   "cell_type": "code",
   "execution_count": 13,
   "metadata": {},
   "outputs": [
    {
     "name": "stdout",
     "output_type": "stream",
     "text": [
      "   cm_chojang_len  cm_julgi_len  cm_hwabang_len  cm_gyahwa_loca cm_gyahwa_ea  \\\n",
      "0           25.00          1.10            0.32           20.00        15.50   \n",
      "1           21.50          1.31            0.40           31.00           16   \n",
      "2           21.00          0.95            0.22           19.00        15.75   \n",
      "3           23.50          1.32            0.33           35.50           17   \n",
      "4           24.90          1.22            0.33           39.30        15.95   \n",
      "\n",
      "   cm_hwabangJulgi_len  cm_hwabanggan_len  cm_yebjang_len  cm_yebjang_wid  \\\n",
      "0                 4.20              33.30           33.30           21.00   \n",
      "1                 4.90              35.00           35.00           27.00   \n",
      "2                 3.20              35.50           32.50           21.00   \n",
      "3                 4.20              32.50           41.50           34.90   \n",
      "4                 4.40              36.00           39.00           32.50   \n",
      "\n",
      "   cm_yeb_ea  cm_gyasu_num  \n",
      "0      16.00         23.00  \n",
      "1      14.00         20.00  \n",
      "2      14.00         21.00  \n",
      "3      10.00         23.00  \n",
      "4      11.00         22.00  \n"
     ]
    }
   ],
   "source": [
    "# 데이터의 상위 5개 행과 데이터의 정보를 출력\n",
    "print(raw_data.head())\n",
    "\n",
    "# 이후할일 : 이후에는 cm,mm 를 통일한다. 평균값을 어떻게 처리할지 생각해보자. 평균값은 정확하지 않은 관계로 일단 제외함."
   ]
  },
  {
   "cell_type": "code",
   "execution_count": 14,
   "metadata": {},
   "outputs": [
    {
     "name": "stdout",
     "output_type": "stream",
     "text": [
      "<class 'pandas.core.frame.DataFrame'>\n",
      "RangeIndex: 12 entries, 0 to 11\n",
      "Data columns (total 11 columns):\n",
      " #   Column               Non-Null Count  Dtype  \n",
      "---  ------               --------------  -----  \n",
      " 0   cm_chojang_len       12 non-null     float64\n",
      " 1   cm_julgi_len         12 non-null     float64\n",
      " 2   cm_hwabang_len       12 non-null     float64\n",
      " 3   cm_gyahwa_loca       12 non-null     float64\n",
      " 4   cm_gyahwa_ea         12 non-null     object \n",
      " 5   cm_hwabangJulgi_len  12 non-null     float64\n",
      " 6   cm_hwabanggan_len    12 non-null     float64\n",
      " 7   cm_yebjang_len       12 non-null     float64\n",
      " 8   cm_yebjang_wid       12 non-null     float64\n",
      " 9   cm_yeb_ea            12 non-null     float64\n",
      " 10  cm_gyasu_num         12 non-null     float64\n",
      "dtypes: float64(10), object(1)\n",
      "memory usage: 1.2+ KB\n",
      "None\n"
     ]
    }
   ],
   "source": [
    "print(raw_data.info())"
   ]
  },
  {
   "cell_type": "code",
   "execution_count": 15,
   "metadata": {},
   "outputs": [
    {
     "name": "stdout",
     "output_type": "stream",
     "text": [
      "Index(['cm_chojang_len', 'cm_julgi_len', 'cm_hwabang_len', 'cm_gyahwa_loca',\n",
      "       'cm_gyahwa_ea', 'cm_hwabangJulgi_len', 'cm_hwabanggan_len',\n",
      "       'cm_yebjang_len', 'cm_yebjang_wid', 'cm_yeb_ea', 'cm_gyasu_num'],\n",
      "      dtype='object')\n"
     ]
    }
   ],
   "source": [
    "print(raw_data.columns)"
   ]
  },
  {
   "cell_type": "code",
   "execution_count": 16,
   "metadata": {},
   "outputs": [],
   "source": [
    "# x는 목표에 영향을 주는값들 , y는 우리가 목표로 하는값\n",
    "# 그래서 토마토수확량이 목표라고 하면 토마토수확량의칼러명을 y로 지정하고\n",
    "# 그외 토마토수확량에 영향을 주는 값들을 x로 지정해야된다.\n",
    "# 그래서 아래코드에서 x에 y칼럼을 제외한 모든 값들이 들어가게 된것임. 결론족으로 두군데 다 목표칼럼이 들어가야됨 \n",
    "# axis=1 은 컬럼 , axis=0은 행을 지정함 \n",
    "X = raw_data.drop(\"cm_gyasu_num\", axis=1)\n",
    "y = raw_data[\"cm_gyasu_num\"]"
   ]
  },
  {
   "cell_type": "code",
   "execution_count": 17,
   "metadata": {},
   "outputs": [],
   "source": [
    "# 데이터를 학습용과 테스트용으로 분할. 테스트 데이터의 비율은 20%로 설정 *딥러닝관련 2,3 참고\n",
    "X_train, X_test, y_train, y_test = train_test_split(X, y, test_size=0.2, random_state=42)"
   ]
  },
  {
   "cell_type": "code",
   "execution_count": 18,
   "metadata": {},
   "outputs": [],
   "source": [
    "# 딥러닝 모델을 구성\n",
    "model = tf.keras.Sequential([\n",
    "    # 첫 번째 은닉층: 64개의 노드와 ReLU 활성화 함수를 사용\n",
    "    tf.keras.layers.Dense(64, activation='relu', input_shape=[len(X_train.keys())]),\n",
    "    # 두 번째 은닉층: 32개의 노드와 ReLU 활성화 함수를 사용\n",
    "    tf.keras.layers.Dense(32, activation='relu'),\n",
    "    # 출력층: 1개의 노드를 사용\n",
    "    tf.keras.layers.Dense(1)\n",
    "])"
   ]
  },
  {
   "cell_type": "code",
   "execution_count": 19,
   "metadata": {},
   "outputs": [],
   "source": [
    "# 모델을 컴파일. 손실 함수로는 MSE를 사용\n",
    "model.compile(optimizer='adam', loss='mse')"
   ]
  },
  {
   "cell_type": "code",
   "execution_count": 20,
   "metadata": {},
   "outputs": [
    {
     "name": "stdout",
     "output_type": "stream",
     "text": [
      "Epoch 1/50\n",
      "1/1 [==============================] - 1s 651ms/step - loss: 3.9982 - val_loss: 19.1470\n",
      "Epoch 2/50\n",
      "1/1 [==============================] - 0s 25ms/step - loss: 12.3561 - val_loss: 15.7675\n",
      "Epoch 3/50\n",
      "1/1 [==============================] - 0s 26ms/step - loss: 4.1917 - val_loss: 23.5143\n",
      "Epoch 4/50\n",
      "1/1 [==============================] - 0s 24ms/step - loss: 5.3002 - val_loss: 29.1474\n",
      "Epoch 5/50\n",
      "1/1 [==============================] - 0s 24ms/step - loss: 8.0937 - val_loss: 25.4788\n",
      "Epoch 6/50\n",
      "1/1 [==============================] - 0s 24ms/step - loss: 6.1030 - val_loss: 19.3291\n",
      "Epoch 7/50\n",
      "1/1 [==============================] - 0s 23ms/step - loss: 3.4816 - val_loss: 16.0097\n",
      "Epoch 8/50\n",
      "1/1 [==============================] - 0s 25ms/step - loss: 3.4551 - val_loss: 15.6974\n",
      "Epoch 9/50\n",
      "1/1 [==============================] - 0s 25ms/step - loss: 5.0242 - val_loss: 15.8177\n",
      "Epoch 10/50\n",
      "1/1 [==============================] - 0s 23ms/step - loss: 5.4102 - val_loss: 15.6521\n",
      "Epoch 11/50\n",
      "1/1 [==============================] - 0s 23ms/step - loss: 4.1962 - val_loss: 16.3857\n",
      "Epoch 12/50\n",
      "1/1 [==============================] - 0s 25ms/step - loss: 2.9645 - val_loss: 18.6526\n",
      "Epoch 13/50\n",
      "1/1 [==============================] - 0s 24ms/step - loss: 2.9361 - val_loss: 21.2322\n",
      "Epoch 14/50\n",
      "1/1 [==============================] - 0s 24ms/step - loss: 3.7275 - val_loss: 22.1715\n",
      "Epoch 15/50\n",
      "1/1 [==============================] - 0s 25ms/step - loss: 4.0715 - val_loss: 20.9409\n",
      "Epoch 16/50\n",
      "1/1 [==============================] - 0s 26ms/step - loss: 3.5132 - val_loss: 18.6793\n",
      "Epoch 17/50\n",
      "1/1 [==============================] - 0s 25ms/step - loss: 2.7293 - val_loss: 16.8356\n",
      "Epoch 18/50\n",
      "1/1 [==============================] - 0s 23ms/step - loss: 2.5144 - val_loss: 15.9915\n",
      "Epoch 19/50\n",
      "1/1 [==============================] - 0s 23ms/step - loss: 2.8885 - val_loss: 15.8104\n",
      "Epoch 20/50\n",
      "1/1 [==============================] - 0s 22ms/step - loss: 3.1999 - val_loss: 15.8722\n",
      "Epoch 21/50\n",
      "1/1 [==============================] - 0s 29ms/step - loss: 2.9971 - val_loss: 16.2726\n",
      "Epoch 22/50\n",
      "1/1 [==============================] - 0s 24ms/step - loss: 2.5054 - val_loss: 17.2450\n",
      "Epoch 23/50\n",
      "1/1 [==============================] - 0s 24ms/step - loss: 2.2424 - val_loss: 18.5543\n",
      "Epoch 24/50\n",
      "1/1 [==============================] - 0s 24ms/step - loss: 2.3847 - val_loss: 19.4648\n",
      "Epoch 25/50\n",
      "1/1 [==============================] - 0s 24ms/step - loss: 2.6086 - val_loss: 19.3970\n",
      "Epoch 26/50\n",
      "1/1 [==============================] - 0s 24ms/step - loss: 2.5506 - val_loss: 18.4780\n",
      "Epoch 27/50\n",
      "1/1 [==============================] - 0s 24ms/step - loss: 2.2504 - val_loss: 17.3671\n",
      "Epoch 28/50\n",
      "1/1 [==============================] - 0s 25ms/step - loss: 2.0347 - val_loss: 16.5912\n",
      "Epoch 29/50\n",
      "1/1 [==============================] - 0s 24ms/step - loss: 2.0776 - val_loss: 16.2771\n",
      "Epoch 30/50\n",
      "1/1 [==============================] - 0s 25ms/step - loss: 2.2127 - val_loss: 16.2678\n",
      "Epoch 31/50\n",
      "1/1 [==============================] - 0s 23ms/step - loss: 2.1904 - val_loss: 16.5061\n",
      "Epoch 32/50\n",
      "1/1 [==============================] - 0s 23ms/step - loss: 2.0013 - val_loss: 17.0480\n",
      "Epoch 33/50\n",
      "1/1 [==============================] - 0s 22ms/step - loss: 1.8496 - val_loss: 17.7627\n",
      "Epoch 34/50\n",
      "1/1 [==============================] - 0s 23ms/step - loss: 1.8627 - val_loss: 18.2796\n",
      "Epoch 35/50\n",
      "1/1 [==============================] - 0s 22ms/step - loss: 1.9366 - val_loss: 18.2966\n",
      "Epoch 36/50\n",
      "1/1 [==============================] - 0s 22ms/step - loss: 1.9084 - val_loss: 17.8386\n",
      "Epoch 37/50\n",
      "1/1 [==============================] - 0s 23ms/step - loss: 1.7724 - val_loss: 17.2242\n",
      "Epoch 38/50\n",
      "1/1 [==============================] - 0s 23ms/step - loss: 1.6656 - val_loss: 16.7772\n",
      "Epoch 39/50\n",
      "1/1 [==============================] - 0s 23ms/step - loss: 1.6648 - val_loss: 16.5918\n",
      "Epoch 40/50\n",
      "1/1 [==============================] - 0s 22ms/step - loss: 1.6920 - val_loss: 16.6355\n",
      "Epoch 41/50\n",
      "1/1 [==============================] - 0s 23ms/step - loss: 1.6419 - val_loss: 16.8919\n",
      "Epoch 42/50\n",
      "1/1 [==============================] - 0s 23ms/step - loss: 1.5350 - val_loss: 17.3219\n",
      "Epoch 43/50\n",
      "1/1 [==============================] - 0s 23ms/step - loss: 1.4711 - val_loss: 17.7771\n",
      "Epoch 44/50\n",
      "1/1 [==============================] - 0s 23ms/step - loss: 1.4725 - val_loss: 18.0012\n",
      "Epoch 45/50\n",
      "1/1 [==============================] - 0s 24ms/step - loss: 1.4647 - val_loss: 17.8877\n",
      "Epoch 46/50\n",
      "1/1 [==============================] - 0s 23ms/step - loss: 1.4092 - val_loss: 17.5439\n",
      "Epoch 47/50\n",
      "1/1 [==============================] - 0s 24ms/step - loss: 1.3464 - val_loss: 17.2051\n",
      "Epoch 48/50\n",
      "1/1 [==============================] - 0s 23ms/step - loss: 1.3266 - val_loss: 17.0117\n",
      "Epoch 49/50\n",
      "1/1 [==============================] - 0s 22ms/step - loss: 1.3356 - val_loss: 17.0508\n",
      "Epoch 50/50\n",
      "1/1 [==============================] - 0s 22ms/step - loss: 1.3197 - val_loss: 17.2870\n"
     ]
    }
   ],
   "source": [
    "#데이터 타입 확인 및 변환: X_train과 y_train이 float 타입인지 확인하고, 아니라면 float 타입으로 변환\n",
    "X_train = X_train.astype('float32')\n",
    "y_train = y_train.astype('float32')\n",
    "X_test = X_test.astype('float32')\n",
    "\n",
    "# 모델을 학습합니다. 학습 데이터 중 20%는 검증용으로 사용\n",
    "history = model.fit(X_train, y_train, epochs=50, validation_split=0.2)"
   ]
  },
  {
   "cell_type": "code",
   "execution_count": 21,
   "metadata": {},
   "outputs": [
    {
     "name": "stdout",
     "output_type": "stream",
     "text": [
      "1/1 [==============================] - 0s 70ms/step\n"
     ]
    }
   ],
   "source": [
    "# 모델을 테스트 데이터로 평가합\n",
    "predictions = model.predict(X_test)"
   ]
  },
  {
   "cell_type": "code",
   "execution_count": 22,
   "metadata": {},
   "outputs": [],
   "source": [
    "# RMSE 값을 계산\n",
    "rmse = np.sqrt(mean_squared_error(y_test, predictions))"
   ]
  },
  {
   "cell_type": "code",
   "execution_count": 23,
   "metadata": {},
   "outputs": [],
   "source": [
    "# R2 스코어를 계산\n",
    "r2 = r2_score(y_test, predictions)"
   ]
  },
  {
   "cell_type": "code",
   "execution_count": 24,
   "metadata": {},
   "outputs": [
    {
     "name": "stdout",
     "output_type": "stream",
     "text": [
      "RMSE: 2.0115852605293756\n",
      "R2 Score: 0.3255874566034941\n"
     ]
    }
   ],
   "source": [
    "# 결과를 출력\n",
    "print(f'RMSE: {rmse}')\n",
    "print(f'R2 Score: {r2}')"
   ]
  },
  {
   "cell_type": "code",
   "execution_count": null,
   "metadata": {},
   "outputs": [],
   "source": []
  }
 ],
 "metadata": {
  "kernelspec": {
   "display_name": "myenv",
   "language": "python",
   "name": "myenv"
  },
  "language_info": {
   "codemirror_mode": {
    "name": "ipython",
    "version": 3
   },
   "file_extension": ".py",
   "mimetype": "text/x-python",
   "name": "python",
   "nbconvert_exporter": "python",
   "pygments_lexer": "ipython3",
   "version": "3.8.7"
  },
  "orig_nbformat": 4
 },
 "nbformat": 4,
 "nbformat_minor": 2
}
