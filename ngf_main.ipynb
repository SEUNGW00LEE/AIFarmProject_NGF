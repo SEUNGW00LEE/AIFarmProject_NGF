{
 "cells": [
  {
   "cell_type": "code",
   "execution_count": 1,
   "metadata": {},
   "outputs": [
    {
     "name": "stdout",
     "output_type": "stream",
     "text": [
      "Intel MKL WARNING: Support of Intel(R) Streaming SIMD Extensions 4.2 (Intel(R) SSE4.2) enabled only processors has been deprecated. Intel oneAPI Math Kernel Library 2025.0 will require Intel(R) Advanced Vector Extensions (Intel(R) AVX) instructions.\n",
      "Intel MKL WARNING: Support of Intel(R) Streaming SIMD Extensions 4.2 (Intel(R) SSE4.2) enabled only processors has been deprecated. Intel oneAPI Math Kernel Library 2025.0 will require Intel(R) Advanced Vector Extensions (Intel(R) AVX) instructions.\n"
     ]
    },
    {
     "ename": "",
     "evalue": "",
     "output_type": "error",
     "traceback": [
      "\u001b[1;31m현재 셀 또는 이전 셀에서 코드를 실행하는 동안 Kernel이 충돌했습니다. 셀의 코드를 검토하여 오류의 가능한 원인을 식별하세요. 자세한 내용을 보려면 <a href='https://aka.ms/vscodeJupyterKernelCrash'> 여기 </a> 를 클릭하세요. 자세한 내용은 Jupyter <a href='command:jupyter.viewOutput'>로그</a>를 참조하세요."
     ]
    },
    {
     "ename": "",
     "evalue": "",
     "output_type": "error",
     "traceback": [
      "\u001b[1;31mCanceled future for execute_request message before replies were done"
     ]
    }
   ],
   "source": [
    "# 알고리즘 관련 라이브러리들\n",
    "from sklearn.model_selection import train_test_split\n",
    "from sklearn.metrics import mean_squared_error, r2_score\n",
    "import tensorflow as tf"
   ]
  },
  {
   "cell_type": "code",
   "execution_count": null,
   "metadata": {},
   "outputs": [],
   "source": [
    "# 필요한 라이브러리 임포트\n",
    "import pandas as pd\n",
    "import numpy as np"
   ]
  },
  {
   "cell_type": "code",
   "execution_count": 5,
   "metadata": {},
   "outputs": [],
   "source": [
    "# 가상환경 설정 ******\n",
    "# myenv\\Scripts\\activate\n",
    "\n",
    "# 데이터 로딩\n",
    "raw_data = pd.read_excel('tomato.xlsx', skiprows=3, usecols=\"D:N\", header=0, sheet_name=1)"
   ]
  },
  {
   "cell_type": "code",
   "execution_count": 6,
   "metadata": {},
   "outputs": [],
   "source": [
    "\n",
    "# 엑셀 파일 전체 읽기\n",
    "# raw_data = pd.read_excel('tomato.xlsx')\n",
    "\n",
    "# 첫 번째 시트만 읽어오기 (인덱스 0)\n",
    "# raw_data = pd.read_excel('tomato.xlsx', sheet_name=0)\n",
    "\n",
    "# 3행을 건너뛰고 읽기 시작. 4번째 행을 컬럼명으로 사용.\n",
    "# 열 이름으로 지정하여 가져올때 (열 이름이 'name', 'age', 'address'일 때) : usecols=['name', 'age', 'address']\n",
    "# 열 인덱스로 지정 (0부터 시작) : usecols=[0, 2, 4]\n",
    "# 열 범위로 지정 : usecols=\"D:N\" (칼럼중 착과화방수, 수확화방수의 뜻이 모호해 데이터에 포함하지 않음)\n",
    "\n",
    "raw_data = pd.read_excel('tomato.xlsx', skiprows=3, usecols=\"D:N\", header=0, sheet_name=1)"
   ]
  },
  {
   "cell_type": "code",
   "execution_count": 7,
   "metadata": {},
   "outputs": [],
   "source": [
    "#소수점 아래 원하는 자릿수만큼만 표시\n",
    "pd.set_option('display.float_format', '{:.2f}'.format)"
   ]
  },
  {
   "cell_type": "code",
   "execution_count": 8,
   "metadata": {},
   "outputs": [],
   "source": [
    "# 평균값이 들어가 있는 행을 삭제 : 평균의값의 의미가 모호함 , 마지막의 평균품종값도 제거하였음\n",
    "raw_data.drop([3, 7, 11, 15, 16], axis=0, inplace=True)"
   ]
  },
  {
   "cell_type": "code",
   "execution_count": 9,
   "metadata": {},
   "outputs": [],
   "source": [
    "# 처음부터 11행까지만 남기고 나머지는 삭제 : 데이터가 들어 있지 않은 행도 모두 표현되기 때문 \n",
    "raw_data = raw_data.iloc[:12]\n",
    "# raw_data의 값을 다시 재정렬\n",
    "raw_data.reset_index(drop=True, inplace=True)"
   ]
  },
  {
   "cell_type": "code",
   "execution_count": 10,
   "metadata": {},
   "outputs": [
    {
     "name": "stdout",
     "output_type": "stream",
     "text": [
      "전체 행의 수: 12\n"
     ]
    }
   ],
   "source": [
    "# 전체 행의 수를 출력해 제대로 정제 되었는지 확인 \n",
    "print(\"전체 행의 수:\", raw_data.shape[0])"
   ]
  },
  {
   "cell_type": "code",
   "execution_count": 11,
   "metadata": {},
   "outputs": [
    {
     "name": "stdout",
     "output_type": "stream",
     "text": [
      "       ㎝     ㎜  ㎜.1   ㎝.1    ea  ㎝.2   ㎝.3   ㎝.4   ㎝.5  ea.1  ea.2\n",
      "0  25.00 10.98 3.24 20.00 15.50 4.20 33.30 33.30 21.00 16.00 23.00\n",
      "1  21.50 13.06 4.02 31.00    16 4.90 35.00 35.00 27.00 14.00 20.00\n",
      "2  21.00  9.48 2.19 19.00 15.75 3.20 35.50 32.50 21.00 14.00 21.00\n",
      "3  23.50 13.23 3.25 35.50    17 4.20 32.50 41.50 34.90 10.00 23.00\n",
      "4  24.90 12.20 3.28 39.30 15.95 4.40 36.00 39.00 32.50 11.00 22.00\n",
      "5  22.30 14.23 3.75 32.00    17 4.60 55.00 37.00 31.20 12.00 20.00\n",
      "6  22.50 14.20 3.82 41.00 16.50 6.00 33.50 42.00 38.00 13.00 16.00\n",
      "7  20.00 11.86 3.16 23.00    16 5.60 36.00 42.50 31.90 12.00 18.00\n",
      "8  22.60 12.62 2.75 27.90 16.50 4.00 33.60 35.50 31.50 13.00 16.00\n",
      "9  17.00 14.18 4.14 32.00 14.95 3.80 31.50 39.50 34.00 14.00 17.00\n",
      "10 24.00 12.09 2.32 39.00 15.25 5.60 33.00 38.00 34.20 17.00 20.00\n",
      "11 23.00 11.08 4.01 20.50 15.50 4.00 31.50 37.00 22.00 16.00 19.00\n"
     ]
    }
   ],
   "source": [
    "# 모든행을 출력하여 데이터가 df에 제대로 들어가 있는지 확인\n",
    "# pd.set_option('display.max_rows', None)  # None으로 설정하면 모든 행을 출력\n",
    "print(raw_data)"
   ]
  },
  {
   "cell_type": "code",
   "execution_count": 12,
   "metadata": {},
   "outputs": [],
   "source": [
    "# cm와 mm 통일 : cm의 값이 많으므로 cm로 단위를 통일하였음\n",
    "raw_data['㎜'] /= 10\n",
    "raw_data['㎜.1'] /= 10"
   ]
  },
  {
   "cell_type": "code",
   "execution_count": 13,
   "metadata": {},
   "outputs": [
    {
     "name": "stdout",
     "output_type": "stream",
     "text": [
      "Index(['㎝', '㎜', '㎜.1', '㎝.1', 'ea', '㎝.2', '㎝.3', '㎝.4', '㎝.5', 'ea.1',\n",
      "       'ea.2'],\n",
      "      dtype='object')\n"
     ]
    }
   ],
   "source": [
    "#칼럼들의 이름확인\n",
    "print(raw_data.columns)"
   ]
  },
  {
   "cell_type": "code",
   "execution_count": 14,
   "metadata": {},
   "outputs": [],
   "source": [
    "# 칼럼의 이름을 알수 있게 변경 \n",
    "# 초장 경경 화방경경 개화위치 개화수 화방줄기거리 화방간거리\n",
    "# ㎝   ㎜   ㎜.1    ㎝.1     ea     ㎝.2       ㎝.3\n",
    "# 엽장 엽폭 엽수    착과량      착과화방수 수확화방수\n",
    "# ㎝.4 ㎝.5 ea.1    ea.2       ea.3      ea.4\n",
    "new_column_names = {\n",
    "    '㎝': 'cm_chojang_len', '㎜': 'cm_julgi_len', '㎜.1': 'cm_hwabang_len',\n",
    "    '㎝.1': 'cm_gyahwa_loca','ea': 'cm_gyahwa_ea', '㎝.2': 'cm_hwabangJulgi_len', '㎝.3': 'cm_hwabanggan_len',\n",
    "    '㎝.4': 'cm_yebjang_len','㎝.5': 'cm_yebjang_wid', 'ea.1': 'cm_yeb_ea',\n",
    "    'ea.2': 'cm_gyasu_num',\n",
    "    # 다른 이름들도 이런 식으로 변경\n",
    "}\n",
    "raw_data.rename(columns=new_column_names, inplace=True)"
   ]
  },
  {
   "cell_type": "code",
   "execution_count": 15,
   "metadata": {},
   "outputs": [
    {
     "name": "stdout",
     "output_type": "stream",
     "text": [
      "   cm_chojang_len  cm_julgi_len  cm_hwabang_len  cm_gyahwa_loca cm_gyahwa_ea  \\\n",
      "0           25.00          1.10            0.32           20.00        15.50   \n",
      "1           21.50          1.31            0.40           31.00           16   \n",
      "2           21.00          0.95            0.22           19.00        15.75   \n",
      "3           23.50          1.32            0.33           35.50           17   \n",
      "4           24.90          1.22            0.33           39.30        15.95   \n",
      "\n",
      "   cm_hwabangJulgi_len  cm_hwabanggan_len  cm_yebjang_len  cm_yebjang_wid  \\\n",
      "0                 4.20              33.30           33.30           21.00   \n",
      "1                 4.90              35.00           35.00           27.00   \n",
      "2                 3.20              35.50           32.50           21.00   \n",
      "3                 4.20              32.50           41.50           34.90   \n",
      "4                 4.40              36.00           39.00           32.50   \n",
      "\n",
      "   cm_yeb_ea  cm_gyasu_num  \n",
      "0      16.00         23.00  \n",
      "1      14.00         20.00  \n",
      "2      14.00         21.00  \n",
      "3      10.00         23.00  \n",
      "4      11.00         22.00  \n"
     ]
    }
   ],
   "source": [
    "# 데이터의 상위 5개 행과 데이터의 정보를 출력\n",
    "print(raw_data.head())\n",
    "\n",
    "# 이후할일 : 이후에는 cm,mm 를 통일한다. 평균값을 어떻게 처리할지 생각해보자. 평균값은 정확하지 않은 관계로 일단 제외함."
   ]
  },
  {
   "cell_type": "code",
   "execution_count": 16,
   "metadata": {},
   "outputs": [
    {
     "name": "stdout",
     "output_type": "stream",
     "text": [
      "<class 'pandas.core.frame.DataFrame'>\n",
      "RangeIndex: 12 entries, 0 to 11\n",
      "Data columns (total 11 columns):\n",
      " #   Column               Non-Null Count  Dtype  \n",
      "---  ------               --------------  -----  \n",
      " 0   cm_chojang_len       12 non-null     float64\n",
      " 1   cm_julgi_len         12 non-null     float64\n",
      " 2   cm_hwabang_len       12 non-null     float64\n",
      " 3   cm_gyahwa_loca       12 non-null     float64\n",
      " 4   cm_gyahwa_ea         12 non-null     object \n",
      " 5   cm_hwabangJulgi_len  12 non-null     float64\n",
      " 6   cm_hwabanggan_len    12 non-null     float64\n",
      " 7   cm_yebjang_len       12 non-null     float64\n",
      " 8   cm_yebjang_wid       12 non-null     float64\n",
      " 9   cm_yeb_ea            12 non-null     float64\n",
      " 10  cm_gyasu_num         12 non-null     float64\n",
      "dtypes: float64(10), object(1)\n",
      "memory usage: 1.2+ KB\n",
      "None\n"
     ]
    }
   ],
   "source": [
    "print(raw_data.info())"
   ]
  },
  {
   "cell_type": "code",
   "execution_count": 17,
   "metadata": {},
   "outputs": [
    {
     "name": "stdout",
     "output_type": "stream",
     "text": [
      "Index(['cm_chojang_len', 'cm_julgi_len', 'cm_hwabang_len', 'cm_gyahwa_loca',\n",
      "       'cm_gyahwa_ea', 'cm_hwabangJulgi_len', 'cm_hwabanggan_len',\n",
      "       'cm_yebjang_len', 'cm_yebjang_wid', 'cm_yeb_ea', 'cm_gyasu_num'],\n",
      "      dtype='object')\n"
     ]
    }
   ],
   "source": [
    "print(raw_data.columns)"
   ]
  },
  {
   "cell_type": "code",
   "execution_count": 18,
   "metadata": {},
   "outputs": [],
   "source": [
    "# x는 목표에 영향을 주는값들 , y는 우리가 목표로 하는값\n",
    "# 그래서 토마토수확량이 목표라고 하면 토마토수확량의칼러명을 y로 지정하고\n",
    "# 그외 토마토수확량에 영향을 주는 값들을 x로 지정해야된다.\n",
    "# 그래서 아래코드에서 x에 y칼럼을 제외한 모든 값들이 들어가게 된것임. 결론족으로 두군데 다 목표칼럼이 들어가야됨 \n",
    "# axis=1 은 컬럼 , axis=0은 행을 지정함 \n",
    "X = raw_data.drop(\"cm_gyasu_num\", axis=1)\n",
    "y = raw_data[\"cm_gyasu_num\"]"
   ]
  },
  {
   "cell_type": "code",
   "execution_count": 19,
   "metadata": {},
   "outputs": [],
   "source": [
    "# 데이터를 학습용과 테스트용으로 분할. 테스트 데이터의 비율은 20%로 설정 *딥러닝관련 2,3 참고\n",
    "X_train, X_test, y_train, y_test = train_test_split(X, y, test_size=0.2, random_state=42)"
   ]
  },
  {
   "cell_type": "code",
   "execution_count": 23,
   "metadata": {},
   "outputs": [
    {
     "ename": "ImportError",
     "evalue": "cannot import name 'deserialize_keras_object' from partially initialized module 'keras.saving.legacy.serialization' (most likely due to a circular import) (/Users/seungwoo/opt/anaconda3/envs/ngf/lib/python3.8/site-packages/keras/saving/legacy/serialization.py)",
     "output_type": "error",
     "traceback": [
      "\u001b[0;31m---------------------------------------------------------------------------\u001b[0m",
      "\u001b[0;31mImportError\u001b[0m                               Traceback (most recent call last)",
      "Cell \u001b[0;32mIn[23], line 1\u001b[0m\n\u001b[0;32m----> 1\u001b[0m \u001b[39mimport\u001b[39;00m \u001b[39mkeras\u001b[39;00m\n",
      "File \u001b[0;32m~/opt/anaconda3/envs/ngf/lib/python3.8/site-packages/keras/__init__.py:21\u001b[0m\n\u001b[1;32m     15\u001b[0m \u001b[39m\"\"\"Implementation of the Keras API, the high-level API of TensorFlow.\u001b[39;00m\n\u001b[1;32m     16\u001b[0m \n\u001b[1;32m     17\u001b[0m \u001b[39mDetailed documentation and user guides are available at\u001b[39;00m\n\u001b[1;32m     18\u001b[0m \u001b[39m[keras.io](https://keras.io).\u001b[39;00m\n\u001b[1;32m     19\u001b[0m \u001b[39m\"\"\"\u001b[39;00m\n\u001b[1;32m     20\u001b[0m \u001b[39mfrom\u001b[39;00m \u001b[39mkeras\u001b[39;00m \u001b[39mimport\u001b[39;00m distribute\n\u001b[0;32m---> 21\u001b[0m \u001b[39mfrom\u001b[39;00m \u001b[39mkeras\u001b[39;00m \u001b[39mimport\u001b[39;00m models\n\u001b[1;32m     22\u001b[0m \u001b[39mfrom\u001b[39;00m \u001b[39mkeras\u001b[39;00m\u001b[39m.\u001b[39;00m\u001b[39mengine\u001b[39;00m\u001b[39m.\u001b[39;00m\u001b[39minput_layer\u001b[39;00m \u001b[39mimport\u001b[39;00m Input\n\u001b[1;32m     23\u001b[0m \u001b[39mfrom\u001b[39;00m \u001b[39mkeras\u001b[39;00m\u001b[39m.\u001b[39;00m\u001b[39mengine\u001b[39;00m\u001b[39m.\u001b[39;00m\u001b[39msequential\u001b[39;00m \u001b[39mimport\u001b[39;00m Sequential\n",
      "File \u001b[0;32m~/opt/anaconda3/envs/ngf/lib/python3.8/site-packages/keras/models/__init__.py:18\u001b[0m\n\u001b[1;32m      1\u001b[0m \u001b[39m# Copyright 2022 The TensorFlow Authors. All Rights Reserved.\u001b[39;00m\n\u001b[1;32m      2\u001b[0m \u001b[39m#\u001b[39;00m\n\u001b[1;32m      3\u001b[0m \u001b[39m# Licensed under the Apache License, Version 2.0 (the \"License\");\u001b[39;00m\n\u001b[0;32m   (...)\u001b[0m\n\u001b[1;32m     13\u001b[0m \u001b[39m# limitations under the License.\u001b[39;00m\n\u001b[1;32m     14\u001b[0m \u001b[39m# ==============================================================================\u001b[39;00m\n\u001b[1;32m     15\u001b[0m \u001b[39m\"\"\"Keras models API.\"\"\"\u001b[39;00m\n\u001b[0;32m---> 18\u001b[0m \u001b[39mfrom\u001b[39;00m \u001b[39mkeras\u001b[39;00m\u001b[39m.\u001b[39;00m\u001b[39mengine\u001b[39;00m\u001b[39m.\u001b[39;00m\u001b[39mfunctional\u001b[39;00m \u001b[39mimport\u001b[39;00m Functional\n\u001b[1;32m     19\u001b[0m \u001b[39mfrom\u001b[39;00m \u001b[39mkeras\u001b[39;00m\u001b[39m.\u001b[39;00m\u001b[39mengine\u001b[39;00m\u001b[39m.\u001b[39;00m\u001b[39msequential\u001b[39;00m \u001b[39mimport\u001b[39;00m Sequential\n\u001b[1;32m     20\u001b[0m \u001b[39mfrom\u001b[39;00m \u001b[39mkeras\u001b[39;00m\u001b[39m.\u001b[39;00m\u001b[39mengine\u001b[39;00m\u001b[39m.\u001b[39;00m\u001b[39mtraining\u001b[39;00m \u001b[39mimport\u001b[39;00m Model\n",
      "File \u001b[0;32m~/opt/anaconda3/envs/ngf/lib/python3.8/site-packages/keras/engine/functional.py:27\u001b[0m\n\u001b[1;32m     24\u001b[0m \u001b[39mimport\u001b[39;00m \u001b[39mtensorflow\u001b[39;00m\u001b[39m.\u001b[39;00m\u001b[39mcompat\u001b[39;00m\u001b[39m.\u001b[39;00m\u001b[39mv2\u001b[39;00m \u001b[39mas\u001b[39;00m \u001b[39mtf\u001b[39;00m\n\u001b[1;32m     26\u001b[0m \u001b[39mfrom\u001b[39;00m \u001b[39mkeras\u001b[39;00m \u001b[39mimport\u001b[39;00m backend\n\u001b[0;32m---> 27\u001b[0m \u001b[39mfrom\u001b[39;00m \u001b[39mkeras\u001b[39;00m\u001b[39m.\u001b[39;00m\u001b[39mdtensor\u001b[39;00m \u001b[39mimport\u001b[39;00m layout_map \u001b[39mas\u001b[39;00m layout_map_lib\n\u001b[1;32m     28\u001b[0m \u001b[39mfrom\u001b[39;00m \u001b[39mkeras\u001b[39;00m\u001b[39m.\u001b[39;00m\u001b[39mengine\u001b[39;00m \u001b[39mimport\u001b[39;00m base_layer\n\u001b[1;32m     29\u001b[0m \u001b[39mfrom\u001b[39;00m \u001b[39mkeras\u001b[39;00m\u001b[39m.\u001b[39;00m\u001b[39mengine\u001b[39;00m \u001b[39mimport\u001b[39;00m base_layer_utils\n",
      "File \u001b[0;32m~/opt/anaconda3/envs/ngf/lib/python3.8/site-packages/keras/dtensor/layout_map.py:27\u001b[0m\n\u001b[1;32m     25\u001b[0m \u001b[39mfrom\u001b[39;00m \u001b[39mkeras\u001b[39;00m\u001b[39m.\u001b[39;00m\u001b[39mdtensor\u001b[39;00m \u001b[39mimport\u001b[39;00m lazy_variable\n\u001b[1;32m     26\u001b[0m \u001b[39mfrom\u001b[39;00m \u001b[39mkeras\u001b[39;00m\u001b[39m.\u001b[39;00m\u001b[39mdtensor\u001b[39;00m \u001b[39mimport\u001b[39;00m utils\n\u001b[0;32m---> 27\u001b[0m \u001b[39mfrom\u001b[39;00m \u001b[39mkeras\u001b[39;00m\u001b[39m.\u001b[39;00m\u001b[39mengine\u001b[39;00m \u001b[39mimport\u001b[39;00m base_layer\n\u001b[1;32m     29\u001b[0m \u001b[39m# isort: off\u001b[39;00m\n\u001b[1;32m     30\u001b[0m \u001b[39mfrom\u001b[39;00m \u001b[39mtensorflow\u001b[39;00m\u001b[39m.\u001b[39;00m\u001b[39mpython\u001b[39;00m\u001b[39m.\u001b[39;00m\u001b[39mutil\u001b[39;00m\u001b[39m.\u001b[39;00m\u001b[39mdeprecation\u001b[39;00m \u001b[39mimport\u001b[39;00m deprecated\n",
      "File \u001b[0;32m~/opt/anaconda3/envs/ngf/lib/python3.8/site-packages/keras/engine/base_layer.py:33\u001b[0m\n\u001b[1;32m     31\u001b[0m \u001b[39mfrom\u001b[39;00m \u001b[39mkeras\u001b[39;00m \u001b[39mimport\u001b[39;00m backend\n\u001b[1;32m     32\u001b[0m \u001b[39mfrom\u001b[39;00m \u001b[39mkeras\u001b[39;00m \u001b[39mimport\u001b[39;00m constraints\n\u001b[0;32m---> 33\u001b[0m \u001b[39mfrom\u001b[39;00m \u001b[39mkeras\u001b[39;00m \u001b[39mimport\u001b[39;00m initializers\n\u001b[1;32m     34\u001b[0m \u001b[39mfrom\u001b[39;00m \u001b[39mkeras\u001b[39;00m \u001b[39mimport\u001b[39;00m regularizers\n\u001b[1;32m     35\u001b[0m \u001b[39mfrom\u001b[39;00m \u001b[39mkeras\u001b[39;00m\u001b[39m.\u001b[39;00m\u001b[39mdtensor\u001b[39;00m \u001b[39mimport\u001b[39;00m lazy_variable\n",
      "File \u001b[0;32m~/opt/anaconda3/envs/ngf/lib/python3.8/site-packages/keras/initializers/__init__.py:23\u001b[0m\n\u001b[1;32m     21\u001b[0m \u001b[39mfrom\u001b[39;00m \u001b[39mkeras\u001b[39;00m\u001b[39m.\u001b[39;00m\u001b[39minitializers\u001b[39;00m \u001b[39mimport\u001b[39;00m initializers\n\u001b[1;32m     22\u001b[0m \u001b[39mfrom\u001b[39;00m \u001b[39mkeras\u001b[39;00m\u001b[39m.\u001b[39;00m\u001b[39minitializers\u001b[39;00m \u001b[39mimport\u001b[39;00m initializers_v1\n\u001b[0;32m---> 23\u001b[0m \u001b[39mfrom\u001b[39;00m \u001b[39mkeras\u001b[39;00m\u001b[39m.\u001b[39;00m\u001b[39msaving\u001b[39;00m\u001b[39m.\u001b[39;00m\u001b[39mlegacy\u001b[39;00m \u001b[39mimport\u001b[39;00m serialization \u001b[39mas\u001b[39;00m legacy_serialization\n\u001b[1;32m     24\u001b[0m \u001b[39mfrom\u001b[39;00m \u001b[39mkeras\u001b[39;00m\u001b[39m.\u001b[39;00m\u001b[39mutils\u001b[39;00m \u001b[39mimport\u001b[39;00m generic_utils\n\u001b[1;32m     25\u001b[0m \u001b[39mfrom\u001b[39;00m \u001b[39mkeras\u001b[39;00m\u001b[39m.\u001b[39;00m\u001b[39mutils\u001b[39;00m \u001b[39mimport\u001b[39;00m tf_inspect \u001b[39mas\u001b[39;00m inspect\n",
      "File \u001b[0;32m~/opt/anaconda3/envs/ngf/lib/python3.8/site-packages/keras/saving/legacy/serialization.py:22\u001b[0m\n\u001b[1;32m     18\u001b[0m \u001b[39mimport\u001b[39;00m \u001b[39mweakref\u001b[39;00m\n\u001b[1;32m     20\u001b[0m \u001b[39mimport\u001b[39;00m \u001b[39mtensorflow\u001b[39;00m\u001b[39m.\u001b[39;00m\u001b[39mcompat\u001b[39;00m\u001b[39m.\u001b[39;00m\u001b[39mv2\u001b[39;00m \u001b[39mas\u001b[39;00m \u001b[39mtf\u001b[39;00m\n\u001b[0;32m---> 22\u001b[0m \u001b[39mfrom\u001b[39;00m \u001b[39mkeras\u001b[39;00m\u001b[39m.\u001b[39;00m\u001b[39mutils\u001b[39;00m \u001b[39mimport\u001b[39;00m tf_contextlib\n\u001b[1;32m     23\u001b[0m \u001b[39mfrom\u001b[39;00m \u001b[39mkeras\u001b[39;00m\u001b[39m.\u001b[39;00m\u001b[39mutils\u001b[39;00m \u001b[39mimport\u001b[39;00m tf_inspect\n\u001b[1;32m     25\u001b[0m \u001b[39m# isort: off\u001b[39;00m\n",
      "File \u001b[0;32m~/opt/anaconda3/envs/ngf/lib/python3.8/site-packages/keras/utils/__init__.py:20\u001b[0m\n\u001b[1;32m     15\u001b[0m \u001b[39m\"\"\"Public Keras utilities.\"\"\"\u001b[39;00m\n\u001b[1;32m     17\u001b[0m \u001b[39m# isort: off\u001b[39;00m\n\u001b[1;32m     18\u001b[0m \n\u001b[1;32m     19\u001b[0m \u001b[39m# Serialization related\u001b[39;00m\n\u001b[0;32m---> 20\u001b[0m \u001b[39mfrom\u001b[39;00m \u001b[39mkeras\u001b[39;00m\u001b[39m.\u001b[39;00m\u001b[39msaving\u001b[39;00m\u001b[39m.\u001b[39;00m\u001b[39mlegacy\u001b[39;00m\u001b[39m.\u001b[39;00m\u001b[39mserialization\u001b[39;00m \u001b[39mimport\u001b[39;00m deserialize_keras_object\n\u001b[1;32m     21\u001b[0m \u001b[39mfrom\u001b[39;00m \u001b[39mkeras\u001b[39;00m\u001b[39m.\u001b[39;00m\u001b[39msaving\u001b[39;00m\u001b[39m.\u001b[39;00m\u001b[39mlegacy\u001b[39;00m\u001b[39m.\u001b[39;00m\u001b[39mserialization\u001b[39;00m \u001b[39mimport\u001b[39;00m serialize_keras_object\n\u001b[1;32m     22\u001b[0m \u001b[39mfrom\u001b[39;00m \u001b[39mkeras\u001b[39;00m\u001b[39m.\u001b[39;00m\u001b[39msaving\u001b[39;00m\u001b[39m.\u001b[39;00m\u001b[39mobject_registration\u001b[39;00m \u001b[39mimport\u001b[39;00m CustomObjectScope\n",
      "\u001b[0;31mImportError\u001b[0m: cannot import name 'deserialize_keras_object' from partially initialized module 'keras.saving.legacy.serialization' (most likely due to a circular import) (/Users/seungwoo/opt/anaconda3/envs/ngf/lib/python3.8/site-packages/keras/saving/legacy/serialization.py)"
     ]
    }
   ],
   "source": [
    "import keras"
   ]
  },
  {
   "cell_type": "code",
   "execution_count": 27,
   "metadata": {},
   "outputs": [
    {
     "name": "stdout",
     "output_type": "stream",
     "text": [
      "Requirement already satisfied: keras in /Users/seungwoo/opt/anaconda3/envs/ngf/lib/python3.8/site-packages (2.12.0)\n",
      "Collecting keras\n",
      "  Obtaining dependency information for keras from https://files.pythonhosted.org/packages/2e/f3/19da7511b45e80216cbbd9467137b2d28919c58ba1ccb971435cb631e470/keras-2.13.1-py3-none-any.whl.metadata\n",
      "  Using cached keras-2.13.1-py3-none-any.whl.metadata (2.4 kB)\n",
      "Requirement already satisfied: tensorflow in /Users/seungwoo/opt/anaconda3/envs/ngf/lib/python3.8/site-packages (2.12.0)\n",
      "Collecting tensorflow\n",
      "  Obtaining dependency information for tensorflow from https://files.pythonhosted.org/packages/ee/28/f6658e1c660aa86b135c60e952007dc03b75ff40f0543ecd2dc5e16e763c/tensorflow-2.13.0-cp38-cp38-macosx_10_15_x86_64.whl.metadata\n",
      "  Using cached tensorflow-2.13.0-cp38-cp38-macosx_10_15_x86_64.whl.metadata (3.2 kB)\n",
      "Requirement already satisfied: absl-py>=1.0.0 in /Users/seungwoo/opt/anaconda3/envs/ngf/lib/python3.8/site-packages (from tensorflow) (1.4.0)\n",
      "Requirement already satisfied: astunparse>=1.6.0 in /Users/seungwoo/opt/anaconda3/envs/ngf/lib/python3.8/site-packages (from tensorflow) (1.6.3)\n",
      "Collecting flatbuffers>=23.1.21 (from tensorflow)\n",
      "  Obtaining dependency information for flatbuffers>=23.1.21 from https://files.pythonhosted.org/packages/6f/12/d5c79ee252793ffe845d58a913197bfa02ae9a0b5c9bc3dc4b58d477b9e7/flatbuffers-23.5.26-py2.py3-none-any.whl.metadata\n",
      "  Using cached flatbuffers-23.5.26-py2.py3-none-any.whl.metadata (850 bytes)\n",
      "Requirement already satisfied: gast<=0.4.0,>=0.2.1 in /Users/seungwoo/opt/anaconda3/envs/ngf/lib/python3.8/site-packages (from tensorflow) (0.4.0)\n",
      "Requirement already satisfied: google-pasta>=0.1.1 in /Users/seungwoo/opt/anaconda3/envs/ngf/lib/python3.8/site-packages (from tensorflow) (0.2.0)\n",
      "Requirement already satisfied: h5py>=2.9.0 in /Users/seungwoo/opt/anaconda3/envs/ngf/lib/python3.8/site-packages (from tensorflow) (3.9.0)\n",
      "Requirement already satisfied: libclang>=13.0.0 in /Users/seungwoo/opt/anaconda3/envs/ngf/lib/python3.8/site-packages (from tensorflow) (16.0.6)\n",
      "Requirement already satisfied: numpy<=1.24.3,>=1.22 in /Users/seungwoo/opt/anaconda3/envs/ngf/lib/python3.8/site-packages (from tensorflow) (1.23.5)\n",
      "Requirement already satisfied: opt-einsum>=2.3.2 in /Users/seungwoo/opt/anaconda3/envs/ngf/lib/python3.8/site-packages (from tensorflow) (3.3.0)\n",
      "Requirement already satisfied: packaging in /Users/seungwoo/opt/anaconda3/envs/ngf/lib/python3.8/site-packages (from tensorflow) (23.1)\n",
      "Requirement already satisfied: protobuf!=4.21.0,!=4.21.1,!=4.21.2,!=4.21.3,!=4.21.4,!=4.21.5,<5.0.0dev,>=3.20.3 in /Users/seungwoo/opt/anaconda3/envs/ngf/lib/python3.8/site-packages (from tensorflow) (3.20.3)\n",
      "Requirement already satisfied: setuptools in /Users/seungwoo/opt/anaconda3/envs/ngf/lib/python3.8/site-packages (from tensorflow) (68.0.0)\n",
      "Requirement already satisfied: six>=1.12.0 in /Users/seungwoo/opt/anaconda3/envs/ngf/lib/python3.8/site-packages (from tensorflow) (1.16.0)\n",
      "Requirement already satisfied: termcolor>=1.1.0 in /Users/seungwoo/opt/anaconda3/envs/ngf/lib/python3.8/site-packages (from tensorflow) (2.1.0)\n",
      "Requirement already satisfied: typing-extensions<4.6.0,>=3.6.6 in /Users/seungwoo/opt/anaconda3/envs/ngf/lib/python3.8/site-packages (from tensorflow) (4.5.0)\n",
      "Requirement already satisfied: wrapt>=1.11.0 in /Users/seungwoo/opt/anaconda3/envs/ngf/lib/python3.8/site-packages (from tensorflow) (1.14.1)\n",
      "Requirement already satisfied: grpcio<2.0,>=1.24.3 in /Users/seungwoo/opt/anaconda3/envs/ngf/lib/python3.8/site-packages (from tensorflow) (1.48.2)\n",
      "Collecting tensorboard<2.14,>=2.13 (from tensorflow)\n",
      "  Using cached tensorboard-2.13.0-py3-none-any.whl (5.6 MB)\n",
      "Collecting tensorflow-estimator<2.14,>=2.13.0 (from tensorflow)\n",
      "  Obtaining dependency information for tensorflow-estimator<2.14,>=2.13.0 from https://files.pythonhosted.org/packages/72/5c/c318268d96791c6222ad7df1651bbd1b2409139afeb6f468c0f327177016/tensorflow_estimator-2.13.0-py2.py3-none-any.whl.metadata\n",
      "  Using cached tensorflow_estimator-2.13.0-py2.py3-none-any.whl.metadata (1.3 kB)\n",
      "Requirement already satisfied: tensorflow-io-gcs-filesystem>=0.23.1 in /Users/seungwoo/opt/anaconda3/envs/ngf/lib/python3.8/site-packages (from tensorflow) (0.34.0)\n",
      "Requirement already satisfied: wheel<1.0,>=0.23.0 in /Users/seungwoo/opt/anaconda3/envs/ngf/lib/python3.8/site-packages (from astunparse>=1.6.0->tensorflow) (0.35.1)\n",
      "Requirement already satisfied: google-auth<3,>=1.6.3 in /Users/seungwoo/opt/anaconda3/envs/ngf/lib/python3.8/site-packages (from tensorboard<2.14,>=2.13->tensorflow) (2.22.0)\n",
      "Requirement already satisfied: google-auth-oauthlib<1.1,>=0.5 in /Users/seungwoo/opt/anaconda3/envs/ngf/lib/python3.8/site-packages (from tensorboard<2.14,>=2.13->tensorflow) (0.5.2)\n",
      "Requirement already satisfied: markdown>=2.6.8 in /Users/seungwoo/opt/anaconda3/envs/ngf/lib/python3.8/site-packages (from tensorboard<2.14,>=2.13->tensorflow) (3.4.1)\n",
      "Requirement already satisfied: requests<3,>=2.21.0 in /Users/seungwoo/opt/anaconda3/envs/ngf/lib/python3.8/site-packages (from tensorboard<2.14,>=2.13->tensorflow) (2.31.0)\n",
      "Requirement already satisfied: tensorboard-data-server<0.8.0,>=0.7.0 in /Users/seungwoo/opt/anaconda3/envs/ngf/lib/python3.8/site-packages (from tensorboard<2.14,>=2.13->tensorflow) (0.7.0)\n",
      "Requirement already satisfied: werkzeug>=1.0.1 in /Users/seungwoo/opt/anaconda3/envs/ngf/lib/python3.8/site-packages (from tensorboard<2.14,>=2.13->tensorflow) (2.2.3)\n",
      "Requirement already satisfied: cachetools<6.0,>=2.0.0 in /Users/seungwoo/opt/anaconda3/envs/ngf/lib/python3.8/site-packages (from google-auth<3,>=1.6.3->tensorboard<2.14,>=2.13->tensorflow) (4.2.2)\n",
      "Requirement already satisfied: pyasn1-modules>=0.2.1 in /Users/seungwoo/opt/anaconda3/envs/ngf/lib/python3.8/site-packages (from google-auth<3,>=1.6.3->tensorboard<2.14,>=2.13->tensorflow) (0.2.8)\n",
      "Requirement already satisfied: rsa<5,>=3.1.4 in /Users/seungwoo/opt/anaconda3/envs/ngf/lib/python3.8/site-packages (from google-auth<3,>=1.6.3->tensorboard<2.14,>=2.13->tensorflow) (4.7.2)\n",
      "Requirement already satisfied: urllib3<2.0 in /Users/seungwoo/opt/anaconda3/envs/ngf/lib/python3.8/site-packages (from google-auth<3,>=1.6.3->tensorboard<2.14,>=2.13->tensorflow) (1.26.16)\n",
      "Requirement already satisfied: requests-oauthlib>=0.7.0 in /Users/seungwoo/opt/anaconda3/envs/ngf/lib/python3.8/site-packages (from google-auth-oauthlib<1.1,>=0.5->tensorboard<2.14,>=2.13->tensorflow) (1.3.0)\n",
      "Requirement already satisfied: importlib-metadata>=4.4 in /Users/seungwoo/opt/anaconda3/envs/ngf/lib/python3.8/site-packages (from markdown>=2.6.8->tensorboard<2.14,>=2.13->tensorflow) (6.0.0)\n",
      "Requirement already satisfied: charset-normalizer<4,>=2 in /Users/seungwoo/opt/anaconda3/envs/ngf/lib/python3.8/site-packages (from requests<3,>=2.21.0->tensorboard<2.14,>=2.13->tensorflow) (2.0.4)\n",
      "Requirement already satisfied: idna<4,>=2.5 in /Users/seungwoo/opt/anaconda3/envs/ngf/lib/python3.8/site-packages (from requests<3,>=2.21.0->tensorboard<2.14,>=2.13->tensorflow) (3.4)\n",
      "Requirement already satisfied: certifi>=2017.4.17 in /Users/seungwoo/opt/anaconda3/envs/ngf/lib/python3.8/site-packages (from requests<3,>=2.21.0->tensorboard<2.14,>=2.13->tensorflow) (2023.7.22)\n",
      "Requirement already satisfied: MarkupSafe>=2.1.1 in /Users/seungwoo/opt/anaconda3/envs/ngf/lib/python3.8/site-packages (from werkzeug>=1.0.1->tensorboard<2.14,>=2.13->tensorflow) (2.1.1)\n",
      "Requirement already satisfied: zipp>=0.5 in /Users/seungwoo/opt/anaconda3/envs/ngf/lib/python3.8/site-packages (from importlib-metadata>=4.4->markdown>=2.6.8->tensorboard<2.14,>=2.13->tensorflow) (3.11.0)\n",
      "Requirement already satisfied: pyasn1<0.5.0,>=0.4.6 in /Users/seungwoo/opt/anaconda3/envs/ngf/lib/python3.8/site-packages (from pyasn1-modules>=0.2.1->google-auth<3,>=1.6.3->tensorboard<2.14,>=2.13->tensorflow) (0.4.8)\n",
      "Requirement already satisfied: oauthlib>=3.0.0 in /Users/seungwoo/opt/anaconda3/envs/ngf/lib/python3.8/site-packages (from requests-oauthlib>=0.7.0->google-auth-oauthlib<1.1,>=0.5->tensorboard<2.14,>=2.13->tensorflow) (3.2.2)\n",
      "Using cached keras-2.13.1-py3-none-any.whl (1.7 MB)\n",
      "Using cached tensorflow-2.13.0-cp38-cp38-macosx_10_15_x86_64.whl (216.2 MB)\n",
      "Using cached flatbuffers-23.5.26-py2.py3-none-any.whl (26 kB)\n",
      "Using cached tensorflow_estimator-2.13.0-py2.py3-none-any.whl (440 kB)\n",
      "Installing collected packages: flatbuffers, tensorflow-estimator, keras, tensorboard, tensorflow\n",
      "  Attempting uninstall: flatbuffers\n",
      "    Found existing installation: flatbuffers 2.0\n",
      "    Uninstalling flatbuffers-2.0:\n",
      "      Successfully uninstalled flatbuffers-2.0\n",
      "  Attempting uninstall: tensorflow-estimator\n",
      "    Found existing installation: tensorflow-estimator 2.12.0\n",
      "    Uninstalling tensorflow-estimator-2.12.0:\n",
      "      Successfully uninstalled tensorflow-estimator-2.12.0\n",
      "  Attempting uninstall: keras\n",
      "    Found existing installation: keras 2.12.0\n",
      "    Uninstalling keras-2.12.0:\n",
      "      Successfully uninstalled keras-2.12.0\n",
      "  Attempting uninstall: tensorboard\n",
      "    Found existing installation: tensorboard 2.12.1\n",
      "    Uninstalling tensorboard-2.12.1:\n",
      "      Successfully uninstalled tensorboard-2.12.1\n",
      "  Attempting uninstall: tensorflow\n",
      "    Found existing installation: tensorflow 2.12.0\n",
      "    Uninstalling tensorflow-2.12.0:\n",
      "      Successfully uninstalled tensorflow-2.12.0\n",
      "Successfully installed flatbuffers-23.5.26 keras-2.13.1 tensorboard-2.13.0 tensorflow-2.13.0 tensorflow-estimator-2.13.0\n",
      "Note: you may need to restart the kernel to use updated packages.\n"
     ]
    }
   ],
   "source": [
    "%pip install --upgrade keras tensorflow"
   ]
  },
  {
   "cell_type": "code",
   "execution_count": 25,
   "metadata": {},
   "outputs": [],
   "source": [
    "from tensorflow import keras"
   ]
  },
  {
   "cell_type": "code",
   "execution_count": 26,
   "metadata": {},
   "outputs": [
    {
     "ename": "ImportError",
     "evalue": "cannot import name 'deserialize_keras_object' from partially initialized module 'keras.saving.legacy.serialization' (most likely due to a circular import) (/Users/seungwoo/opt/anaconda3/envs/ngf/lib/python3.8/site-packages/keras/saving/legacy/serialization.py)",
     "output_type": "error",
     "traceback": [
      "\u001b[0;31m---------------------------------------------------------------------------\u001b[0m",
      "\u001b[0;31mImportError\u001b[0m                               Traceback (most recent call last)",
      "Cell \u001b[0;32mIn[26], line 5\u001b[0m\n\u001b[1;32m      2\u001b[0m \u001b[39mfrom\u001b[39;00m \u001b[39mtensorflow\u001b[39;00m\u001b[39m.\u001b[39;00m\u001b[39mpython\u001b[39;00m\u001b[39m.\u001b[39;00m\u001b[39mkeras\u001b[39;00m\u001b[39m.\u001b[39;00m\u001b[39mmodels\u001b[39;00m \u001b[39mimport\u001b[39;00m Sequential\n\u001b[1;32m      4\u001b[0m \u001b[39m# 딥러닝 모델을 구성\u001b[39;00m\n\u001b[0;32m----> 5\u001b[0m model \u001b[39m=\u001b[39m tf\u001b[39m.\u001b[39;49mkeras\u001b[39m.\u001b[39;49mSequential([\n\u001b[1;32m      6\u001b[0m     \u001b[39m# 첫 번째 은닉층: 64개의 노드와 ReLU 활성화 함수를 사용\u001b[39;00m\n\u001b[1;32m      7\u001b[0m     tf\u001b[39m.\u001b[39mkeras\u001b[39m.\u001b[39mlayers\u001b[39m.\u001b[39mDense(\u001b[39m64\u001b[39m, activation\u001b[39m=\u001b[39m\u001b[39m'\u001b[39m\u001b[39mrelu\u001b[39m\u001b[39m'\u001b[39m, input_shape\u001b[39m=\u001b[39m[\u001b[39mlen\u001b[39m(X_train\u001b[39m.\u001b[39mkeys())]),\n\u001b[1;32m      8\u001b[0m     \u001b[39m# 두 번째 은닉층: 32개의 노드와 ReLU 활성화 함수를 사용\u001b[39;00m\n\u001b[1;32m      9\u001b[0m     tf\u001b[39m.\u001b[39mkeras\u001b[39m.\u001b[39mlayers\u001b[39m.\u001b[39mDense(\u001b[39m32\u001b[39m, activation\u001b[39m=\u001b[39m\u001b[39m'\u001b[39m\u001b[39mrelu\u001b[39m\u001b[39m'\u001b[39m),\n\u001b[1;32m     10\u001b[0m     \u001b[39m# 출력층: 1개의 노드를 사용\u001b[39;00m\n\u001b[1;32m     11\u001b[0m     tf\u001b[39m.\u001b[39mkeras\u001b[39m.\u001b[39mlayers\u001b[39m.\u001b[39mDense(\u001b[39m1\u001b[39m)\n\u001b[1;32m     12\u001b[0m ])\n",
      "File \u001b[0;32m~/opt/anaconda3/envs/ngf/lib/python3.8/site-packages/tensorflow/python/util/lazy_loader.py:58\u001b[0m, in \u001b[0;36mLazyLoader.__getattr__\u001b[0;34m(self, item)\u001b[0m\n\u001b[1;32m     57\u001b[0m \u001b[39mdef\u001b[39;00m \u001b[39m__getattr__\u001b[39m(\u001b[39mself\u001b[39m, item):\n\u001b[0;32m---> 58\u001b[0m   module \u001b[39m=\u001b[39m \u001b[39mself\u001b[39;49m\u001b[39m.\u001b[39;49m_load()\n\u001b[1;32m     59\u001b[0m   \u001b[39mreturn\u001b[39;00m \u001b[39mgetattr\u001b[39m(module, item)\n",
      "File \u001b[0;32m~/opt/anaconda3/envs/ngf/lib/python3.8/site-packages/tensorflow/python/util/lazy_loader.py:41\u001b[0m, in \u001b[0;36mLazyLoader._load\u001b[0;34m(self)\u001b[0m\n\u001b[1;32m     39\u001b[0m \u001b[39m\u001b[39m\u001b[39m\"\"\"Load the module and insert it into the parent's globals.\"\"\"\u001b[39;00m\n\u001b[1;32m     40\u001b[0m \u001b[39m# Import the target module and insert it into the parent's namespace\u001b[39;00m\n\u001b[0;32m---> 41\u001b[0m module \u001b[39m=\u001b[39m importlib\u001b[39m.\u001b[39;49mimport_module(\u001b[39mself\u001b[39;49m\u001b[39m.\u001b[39;49m\u001b[39m__name__\u001b[39;49m)\n\u001b[1;32m     42\u001b[0m \u001b[39mself\u001b[39m\u001b[39m.\u001b[39m_parent_module_globals[\u001b[39mself\u001b[39m\u001b[39m.\u001b[39m_local_name] \u001b[39m=\u001b[39m module\n\u001b[1;32m     44\u001b[0m \u001b[39m# Emit a warning if one was specified\u001b[39;00m\n",
      "File \u001b[0;32m~/opt/anaconda3/envs/ngf/lib/python3.8/importlib/__init__.py:127\u001b[0m, in \u001b[0;36mimport_module\u001b[0;34m(name, package)\u001b[0m\n\u001b[1;32m    125\u001b[0m             \u001b[39mbreak\u001b[39;00m\n\u001b[1;32m    126\u001b[0m         level \u001b[39m+\u001b[39m\u001b[39m=\u001b[39m \u001b[39m1\u001b[39m\n\u001b[0;32m--> 127\u001b[0m \u001b[39mreturn\u001b[39;00m _bootstrap\u001b[39m.\u001b[39;49m_gcd_import(name[level:], package, level)\n",
      "File \u001b[0;32m<frozen importlib._bootstrap>:1014\u001b[0m, in \u001b[0;36m_gcd_import\u001b[0;34m(name, package, level)\u001b[0m\n",
      "File \u001b[0;32m<frozen importlib._bootstrap>:991\u001b[0m, in \u001b[0;36m_find_and_load\u001b[0;34m(name, import_)\u001b[0m\n",
      "File \u001b[0;32m<frozen importlib._bootstrap>:961\u001b[0m, in \u001b[0;36m_find_and_load_unlocked\u001b[0;34m(name, import_)\u001b[0m\n",
      "File \u001b[0;32m<frozen importlib._bootstrap>:219\u001b[0m, in \u001b[0;36m_call_with_frames_removed\u001b[0;34m(f, *args, **kwds)\u001b[0m\n",
      "File \u001b[0;32m<frozen importlib._bootstrap>:1014\u001b[0m, in \u001b[0;36m_gcd_import\u001b[0;34m(name, package, level)\u001b[0m\n",
      "File \u001b[0;32m<frozen importlib._bootstrap>:991\u001b[0m, in \u001b[0;36m_find_and_load\u001b[0;34m(name, import_)\u001b[0m\n",
      "File \u001b[0;32m<frozen importlib._bootstrap>:961\u001b[0m, in \u001b[0;36m_find_and_load_unlocked\u001b[0;34m(name, import_)\u001b[0m\n",
      "File \u001b[0;32m<frozen importlib._bootstrap>:219\u001b[0m, in \u001b[0;36m_call_with_frames_removed\u001b[0;34m(f, *args, **kwds)\u001b[0m\n",
      "File \u001b[0;32m<frozen importlib._bootstrap>:1014\u001b[0m, in \u001b[0;36m_gcd_import\u001b[0;34m(name, package, level)\u001b[0m\n",
      "File \u001b[0;32m<frozen importlib._bootstrap>:991\u001b[0m, in \u001b[0;36m_find_and_load\u001b[0;34m(name, import_)\u001b[0m\n",
      "File \u001b[0;32m<frozen importlib._bootstrap>:961\u001b[0m, in \u001b[0;36m_find_and_load_unlocked\u001b[0;34m(name, import_)\u001b[0m\n",
      "File \u001b[0;32m<frozen importlib._bootstrap>:219\u001b[0m, in \u001b[0;36m_call_with_frames_removed\u001b[0;34m(f, *args, **kwds)\u001b[0m\n",
      "File \u001b[0;32m<frozen importlib._bootstrap>:1014\u001b[0m, in \u001b[0;36m_gcd_import\u001b[0;34m(name, package, level)\u001b[0m\n",
      "File \u001b[0;32m<frozen importlib._bootstrap>:991\u001b[0m, in \u001b[0;36m_find_and_load\u001b[0;34m(name, import_)\u001b[0m\n",
      "File \u001b[0;32m<frozen importlib._bootstrap>:975\u001b[0m, in \u001b[0;36m_find_and_load_unlocked\u001b[0;34m(name, import_)\u001b[0m\n",
      "File \u001b[0;32m<frozen importlib._bootstrap>:671\u001b[0m, in \u001b[0;36m_load_unlocked\u001b[0;34m(spec)\u001b[0m\n",
      "File \u001b[0;32m<frozen importlib._bootstrap_external>:843\u001b[0m, in \u001b[0;36mexec_module\u001b[0;34m(self, module)\u001b[0m\n",
      "File \u001b[0;32m<frozen importlib._bootstrap>:219\u001b[0m, in \u001b[0;36m_call_with_frames_removed\u001b[0;34m(f, *args, **kwds)\u001b[0m\n",
      "File \u001b[0;32m~/opt/anaconda3/envs/ngf/lib/python3.8/site-packages/keras/__init__.py:21\u001b[0m\n\u001b[1;32m     15\u001b[0m \u001b[39m\"\"\"Implementation of the Keras API, the high-level API of TensorFlow.\u001b[39;00m\n\u001b[1;32m     16\u001b[0m \n\u001b[1;32m     17\u001b[0m \u001b[39mDetailed documentation and user guides are available at\u001b[39;00m\n\u001b[1;32m     18\u001b[0m \u001b[39m[keras.io](https://keras.io).\u001b[39;00m\n\u001b[1;32m     19\u001b[0m \u001b[39m\"\"\"\u001b[39;00m\n\u001b[1;32m     20\u001b[0m \u001b[39mfrom\u001b[39;00m \u001b[39mkeras\u001b[39;00m \u001b[39mimport\u001b[39;00m distribute\n\u001b[0;32m---> 21\u001b[0m \u001b[39mfrom\u001b[39;00m \u001b[39mkeras\u001b[39;00m \u001b[39mimport\u001b[39;00m models\n\u001b[1;32m     22\u001b[0m \u001b[39mfrom\u001b[39;00m \u001b[39mkeras\u001b[39;00m\u001b[39m.\u001b[39;00m\u001b[39mengine\u001b[39;00m\u001b[39m.\u001b[39;00m\u001b[39minput_layer\u001b[39;00m \u001b[39mimport\u001b[39;00m Input\n\u001b[1;32m     23\u001b[0m \u001b[39mfrom\u001b[39;00m \u001b[39mkeras\u001b[39;00m\u001b[39m.\u001b[39;00m\u001b[39mengine\u001b[39;00m\u001b[39m.\u001b[39;00m\u001b[39msequential\u001b[39;00m \u001b[39mimport\u001b[39;00m Sequential\n",
      "File \u001b[0;32m~/opt/anaconda3/envs/ngf/lib/python3.8/site-packages/keras/models/__init__.py:18\u001b[0m\n\u001b[1;32m      1\u001b[0m \u001b[39m# Copyright 2022 The TensorFlow Authors. All Rights Reserved.\u001b[39;00m\n\u001b[1;32m      2\u001b[0m \u001b[39m#\u001b[39;00m\n\u001b[1;32m      3\u001b[0m \u001b[39m# Licensed under the Apache License, Version 2.0 (the \"License\");\u001b[39;00m\n\u001b[0;32m   (...)\u001b[0m\n\u001b[1;32m     13\u001b[0m \u001b[39m# limitations under the License.\u001b[39;00m\n\u001b[1;32m     14\u001b[0m \u001b[39m# ==============================================================================\u001b[39;00m\n\u001b[1;32m     15\u001b[0m \u001b[39m\"\"\"Keras models API.\"\"\"\u001b[39;00m\n\u001b[0;32m---> 18\u001b[0m \u001b[39mfrom\u001b[39;00m \u001b[39mkeras\u001b[39;00m\u001b[39m.\u001b[39;00m\u001b[39mengine\u001b[39;00m\u001b[39m.\u001b[39;00m\u001b[39mfunctional\u001b[39;00m \u001b[39mimport\u001b[39;00m Functional\n\u001b[1;32m     19\u001b[0m \u001b[39mfrom\u001b[39;00m \u001b[39mkeras\u001b[39;00m\u001b[39m.\u001b[39;00m\u001b[39mengine\u001b[39;00m\u001b[39m.\u001b[39;00m\u001b[39msequential\u001b[39;00m \u001b[39mimport\u001b[39;00m Sequential\n\u001b[1;32m     20\u001b[0m \u001b[39mfrom\u001b[39;00m \u001b[39mkeras\u001b[39;00m\u001b[39m.\u001b[39;00m\u001b[39mengine\u001b[39;00m\u001b[39m.\u001b[39;00m\u001b[39mtraining\u001b[39;00m \u001b[39mimport\u001b[39;00m Model\n",
      "File \u001b[0;32m~/opt/anaconda3/envs/ngf/lib/python3.8/site-packages/keras/engine/functional.py:27\u001b[0m\n\u001b[1;32m     24\u001b[0m \u001b[39mimport\u001b[39;00m \u001b[39mtensorflow\u001b[39;00m\u001b[39m.\u001b[39;00m\u001b[39mcompat\u001b[39;00m\u001b[39m.\u001b[39;00m\u001b[39mv2\u001b[39;00m \u001b[39mas\u001b[39;00m \u001b[39mtf\u001b[39;00m\n\u001b[1;32m     26\u001b[0m \u001b[39mfrom\u001b[39;00m \u001b[39mkeras\u001b[39;00m \u001b[39mimport\u001b[39;00m backend\n\u001b[0;32m---> 27\u001b[0m \u001b[39mfrom\u001b[39;00m \u001b[39mkeras\u001b[39;00m\u001b[39m.\u001b[39;00m\u001b[39mdtensor\u001b[39;00m \u001b[39mimport\u001b[39;00m layout_map \u001b[39mas\u001b[39;00m layout_map_lib\n\u001b[1;32m     28\u001b[0m \u001b[39mfrom\u001b[39;00m \u001b[39mkeras\u001b[39;00m\u001b[39m.\u001b[39;00m\u001b[39mengine\u001b[39;00m \u001b[39mimport\u001b[39;00m base_layer\n\u001b[1;32m     29\u001b[0m \u001b[39mfrom\u001b[39;00m \u001b[39mkeras\u001b[39;00m\u001b[39m.\u001b[39;00m\u001b[39mengine\u001b[39;00m \u001b[39mimport\u001b[39;00m base_layer_utils\n",
      "File \u001b[0;32m~/opt/anaconda3/envs/ngf/lib/python3.8/site-packages/keras/dtensor/layout_map.py:27\u001b[0m\n\u001b[1;32m     25\u001b[0m \u001b[39mfrom\u001b[39;00m \u001b[39mkeras\u001b[39;00m\u001b[39m.\u001b[39;00m\u001b[39mdtensor\u001b[39;00m \u001b[39mimport\u001b[39;00m lazy_variable\n\u001b[1;32m     26\u001b[0m \u001b[39mfrom\u001b[39;00m \u001b[39mkeras\u001b[39;00m\u001b[39m.\u001b[39;00m\u001b[39mdtensor\u001b[39;00m \u001b[39mimport\u001b[39;00m utils\n\u001b[0;32m---> 27\u001b[0m \u001b[39mfrom\u001b[39;00m \u001b[39mkeras\u001b[39;00m\u001b[39m.\u001b[39;00m\u001b[39mengine\u001b[39;00m \u001b[39mimport\u001b[39;00m base_layer\n\u001b[1;32m     29\u001b[0m \u001b[39m# isort: off\u001b[39;00m\n\u001b[1;32m     30\u001b[0m \u001b[39mfrom\u001b[39;00m \u001b[39mtensorflow\u001b[39;00m\u001b[39m.\u001b[39;00m\u001b[39mpython\u001b[39;00m\u001b[39m.\u001b[39;00m\u001b[39mutil\u001b[39;00m\u001b[39m.\u001b[39;00m\u001b[39mdeprecation\u001b[39;00m \u001b[39mimport\u001b[39;00m deprecated\n",
      "File \u001b[0;32m~/opt/anaconda3/envs/ngf/lib/python3.8/site-packages/keras/engine/base_layer.py:33\u001b[0m\n\u001b[1;32m     31\u001b[0m \u001b[39mfrom\u001b[39;00m \u001b[39mkeras\u001b[39;00m \u001b[39mimport\u001b[39;00m backend\n\u001b[1;32m     32\u001b[0m \u001b[39mfrom\u001b[39;00m \u001b[39mkeras\u001b[39;00m \u001b[39mimport\u001b[39;00m constraints\n\u001b[0;32m---> 33\u001b[0m \u001b[39mfrom\u001b[39;00m \u001b[39mkeras\u001b[39;00m \u001b[39mimport\u001b[39;00m initializers\n\u001b[1;32m     34\u001b[0m \u001b[39mfrom\u001b[39;00m \u001b[39mkeras\u001b[39;00m \u001b[39mimport\u001b[39;00m regularizers\n\u001b[1;32m     35\u001b[0m \u001b[39mfrom\u001b[39;00m \u001b[39mkeras\u001b[39;00m\u001b[39m.\u001b[39;00m\u001b[39mdtensor\u001b[39;00m \u001b[39mimport\u001b[39;00m lazy_variable\n",
      "File \u001b[0;32m~/opt/anaconda3/envs/ngf/lib/python3.8/site-packages/keras/initializers/__init__.py:23\u001b[0m\n\u001b[1;32m     21\u001b[0m \u001b[39mfrom\u001b[39;00m \u001b[39mkeras\u001b[39;00m\u001b[39m.\u001b[39;00m\u001b[39minitializers\u001b[39;00m \u001b[39mimport\u001b[39;00m initializers\n\u001b[1;32m     22\u001b[0m \u001b[39mfrom\u001b[39;00m \u001b[39mkeras\u001b[39;00m\u001b[39m.\u001b[39;00m\u001b[39minitializers\u001b[39;00m \u001b[39mimport\u001b[39;00m initializers_v1\n\u001b[0;32m---> 23\u001b[0m \u001b[39mfrom\u001b[39;00m \u001b[39mkeras\u001b[39;00m\u001b[39m.\u001b[39;00m\u001b[39msaving\u001b[39;00m\u001b[39m.\u001b[39;00m\u001b[39mlegacy\u001b[39;00m \u001b[39mimport\u001b[39;00m serialization \u001b[39mas\u001b[39;00m legacy_serialization\n\u001b[1;32m     24\u001b[0m \u001b[39mfrom\u001b[39;00m \u001b[39mkeras\u001b[39;00m\u001b[39m.\u001b[39;00m\u001b[39mutils\u001b[39;00m \u001b[39mimport\u001b[39;00m generic_utils\n\u001b[1;32m     25\u001b[0m \u001b[39mfrom\u001b[39;00m \u001b[39mkeras\u001b[39;00m\u001b[39m.\u001b[39;00m\u001b[39mutils\u001b[39;00m \u001b[39mimport\u001b[39;00m tf_inspect \u001b[39mas\u001b[39;00m inspect\n",
      "File \u001b[0;32m~/opt/anaconda3/envs/ngf/lib/python3.8/site-packages/keras/saving/legacy/serialization.py:22\u001b[0m\n\u001b[1;32m     18\u001b[0m \u001b[39mimport\u001b[39;00m \u001b[39mweakref\u001b[39;00m\n\u001b[1;32m     20\u001b[0m \u001b[39mimport\u001b[39;00m \u001b[39mtensorflow\u001b[39;00m\u001b[39m.\u001b[39;00m\u001b[39mcompat\u001b[39;00m\u001b[39m.\u001b[39;00m\u001b[39mv2\u001b[39;00m \u001b[39mas\u001b[39;00m \u001b[39mtf\u001b[39;00m\n\u001b[0;32m---> 22\u001b[0m \u001b[39mfrom\u001b[39;00m \u001b[39mkeras\u001b[39;00m\u001b[39m.\u001b[39;00m\u001b[39mutils\u001b[39;00m \u001b[39mimport\u001b[39;00m tf_contextlib\n\u001b[1;32m     23\u001b[0m \u001b[39mfrom\u001b[39;00m \u001b[39mkeras\u001b[39;00m\u001b[39m.\u001b[39;00m\u001b[39mutils\u001b[39;00m \u001b[39mimport\u001b[39;00m tf_inspect\n\u001b[1;32m     25\u001b[0m \u001b[39m# isort: off\u001b[39;00m\n",
      "File \u001b[0;32m~/opt/anaconda3/envs/ngf/lib/python3.8/site-packages/keras/utils/__init__.py:20\u001b[0m\n\u001b[1;32m     15\u001b[0m \u001b[39m\"\"\"Public Keras utilities.\"\"\"\u001b[39;00m\n\u001b[1;32m     17\u001b[0m \u001b[39m# isort: off\u001b[39;00m\n\u001b[1;32m     18\u001b[0m \n\u001b[1;32m     19\u001b[0m \u001b[39m# Serialization related\u001b[39;00m\n\u001b[0;32m---> 20\u001b[0m \u001b[39mfrom\u001b[39;00m \u001b[39mkeras\u001b[39;00m\u001b[39m.\u001b[39;00m\u001b[39msaving\u001b[39;00m\u001b[39m.\u001b[39;00m\u001b[39mlegacy\u001b[39;00m\u001b[39m.\u001b[39;00m\u001b[39mserialization\u001b[39;00m \u001b[39mimport\u001b[39;00m deserialize_keras_object\n\u001b[1;32m     21\u001b[0m \u001b[39mfrom\u001b[39;00m \u001b[39mkeras\u001b[39;00m\u001b[39m.\u001b[39;00m\u001b[39msaving\u001b[39;00m\u001b[39m.\u001b[39;00m\u001b[39mlegacy\u001b[39;00m\u001b[39m.\u001b[39;00m\u001b[39mserialization\u001b[39;00m \u001b[39mimport\u001b[39;00m serialize_keras_object\n\u001b[1;32m     22\u001b[0m \u001b[39mfrom\u001b[39;00m \u001b[39mkeras\u001b[39;00m\u001b[39m.\u001b[39;00m\u001b[39msaving\u001b[39;00m\u001b[39m.\u001b[39;00m\u001b[39mobject_registration\u001b[39;00m \u001b[39mimport\u001b[39;00m CustomObjectScope\n",
      "\u001b[0;31mImportError\u001b[0m: cannot import name 'deserialize_keras_object' from partially initialized module 'keras.saving.legacy.serialization' (most likely due to a circular import) (/Users/seungwoo/opt/anaconda3/envs/ngf/lib/python3.8/site-packages/keras/saving/legacy/serialization.py)"
     ]
    }
   ],
   "source": [
    "from tensorflow.python.keras import layers\n",
    "from tensorflow.python.keras.models import Sequential\n",
    "\n",
    "# 딥러닝 모델을 구성\n",
    "model = tf.keras.Sequential([\n",
    "    # 첫 번째 은닉층: 64개의 노드와 ReLU 활성화 함수를 사용\n",
    "    tf.keras.layers.Dense(64, activation='relu', input_shape=[len(X_train.keys())]),\n",
    "    # 두 번째 은닉층: 32개의 노드와 ReLU 활성화 함수를 사용\n",
    "    tf.keras.layers.Dense(32, activation='relu'),\n",
    "    # 출력층: 1개의 노드를 사용\n",
    "    tf.keras.layers.Dense(1)\n",
    "])"
   ]
  },
  {
   "cell_type": "code",
   "execution_count": 19,
   "metadata": {},
   "outputs": [],
   "source": [
    "# 모델을 컴파일. 손실 함수로는 MSE를 사용\n",
    "model.compile(optimizer='adam', loss='mse')"
   ]
  },
  {
   "cell_type": "code",
   "execution_count": 20,
   "metadata": {},
   "outputs": [
    {
     "name": "stdout",
     "output_type": "stream",
     "text": [
      "Epoch 1/50\n",
      "1/1 [==============================] - 1s 651ms/step - loss: 3.9982 - val_loss: 19.1470\n",
      "Epoch 2/50\n",
      "1/1 [==============================] - 0s 25ms/step - loss: 12.3561 - val_loss: 15.7675\n",
      "Epoch 3/50\n",
      "1/1 [==============================] - 0s 26ms/step - loss: 4.1917 - val_loss: 23.5143\n",
      "Epoch 4/50\n",
      "1/1 [==============================] - 0s 24ms/step - loss: 5.3002 - val_loss: 29.1474\n",
      "Epoch 5/50\n",
      "1/1 [==============================] - 0s 24ms/step - loss: 8.0937 - val_loss: 25.4788\n",
      "Epoch 6/50\n",
      "1/1 [==============================] - 0s 24ms/step - loss: 6.1030 - val_loss: 19.3291\n",
      "Epoch 7/50\n",
      "1/1 [==============================] - 0s 23ms/step - loss: 3.4816 - val_loss: 16.0097\n",
      "Epoch 8/50\n",
      "1/1 [==============================] - 0s 25ms/step - loss: 3.4551 - val_loss: 15.6974\n",
      "Epoch 9/50\n",
      "1/1 [==============================] - 0s 25ms/step - loss: 5.0242 - val_loss: 15.8177\n",
      "Epoch 10/50\n",
      "1/1 [==============================] - 0s 23ms/step - loss: 5.4102 - val_loss: 15.6521\n",
      "Epoch 11/50\n",
      "1/1 [==============================] - 0s 23ms/step - loss: 4.1962 - val_loss: 16.3857\n",
      "Epoch 12/50\n",
      "1/1 [==============================] - 0s 25ms/step - loss: 2.9645 - val_loss: 18.6526\n",
      "Epoch 13/50\n",
      "1/1 [==============================] - 0s 24ms/step - loss: 2.9361 - val_loss: 21.2322\n",
      "Epoch 14/50\n",
      "1/1 [==============================] - 0s 24ms/step - loss: 3.7275 - val_loss: 22.1715\n",
      "Epoch 15/50\n",
      "1/1 [==============================] - 0s 25ms/step - loss: 4.0715 - val_loss: 20.9409\n",
      "Epoch 16/50\n",
      "1/1 [==============================] - 0s 26ms/step - loss: 3.5132 - val_loss: 18.6793\n",
      "Epoch 17/50\n",
      "1/1 [==============================] - 0s 25ms/step - loss: 2.7293 - val_loss: 16.8356\n",
      "Epoch 18/50\n",
      "1/1 [==============================] - 0s 23ms/step - loss: 2.5144 - val_loss: 15.9915\n",
      "Epoch 19/50\n",
      "1/1 [==============================] - 0s 23ms/step - loss: 2.8885 - val_loss: 15.8104\n",
      "Epoch 20/50\n",
      "1/1 [==============================] - 0s 22ms/step - loss: 3.1999 - val_loss: 15.8722\n",
      "Epoch 21/50\n",
      "1/1 [==============================] - 0s 29ms/step - loss: 2.9971 - val_loss: 16.2726\n",
      "Epoch 22/50\n",
      "1/1 [==============================] - 0s 24ms/step - loss: 2.5054 - val_loss: 17.2450\n",
      "Epoch 23/50\n",
      "1/1 [==============================] - 0s 24ms/step - loss: 2.2424 - val_loss: 18.5543\n",
      "Epoch 24/50\n",
      "1/1 [==============================] - 0s 24ms/step - loss: 2.3847 - val_loss: 19.4648\n",
      "Epoch 25/50\n",
      "1/1 [==============================] - 0s 24ms/step - loss: 2.6086 - val_loss: 19.3970\n",
      "Epoch 26/50\n",
      "1/1 [==============================] - 0s 24ms/step - loss: 2.5506 - val_loss: 18.4780\n",
      "Epoch 27/50\n",
      "1/1 [==============================] - 0s 24ms/step - loss: 2.2504 - val_loss: 17.3671\n",
      "Epoch 28/50\n",
      "1/1 [==============================] - 0s 25ms/step - loss: 2.0347 - val_loss: 16.5912\n",
      "Epoch 29/50\n",
      "1/1 [==============================] - 0s 24ms/step - loss: 2.0776 - val_loss: 16.2771\n",
      "Epoch 30/50\n",
      "1/1 [==============================] - 0s 25ms/step - loss: 2.2127 - val_loss: 16.2678\n",
      "Epoch 31/50\n",
      "1/1 [==============================] - 0s 23ms/step - loss: 2.1904 - val_loss: 16.5061\n",
      "Epoch 32/50\n",
      "1/1 [==============================] - 0s 23ms/step - loss: 2.0013 - val_loss: 17.0480\n",
      "Epoch 33/50\n",
      "1/1 [==============================] - 0s 22ms/step - loss: 1.8496 - val_loss: 17.7627\n",
      "Epoch 34/50\n",
      "1/1 [==============================] - 0s 23ms/step - loss: 1.8627 - val_loss: 18.2796\n",
      "Epoch 35/50\n",
      "1/1 [==============================] - 0s 22ms/step - loss: 1.9366 - val_loss: 18.2966\n",
      "Epoch 36/50\n",
      "1/1 [==============================] - 0s 22ms/step - loss: 1.9084 - val_loss: 17.8386\n",
      "Epoch 37/50\n",
      "1/1 [==============================] - 0s 23ms/step - loss: 1.7724 - val_loss: 17.2242\n",
      "Epoch 38/50\n",
      "1/1 [==============================] - 0s 23ms/step - loss: 1.6656 - val_loss: 16.7772\n",
      "Epoch 39/50\n",
      "1/1 [==============================] - 0s 23ms/step - loss: 1.6648 - val_loss: 16.5918\n",
      "Epoch 40/50\n",
      "1/1 [==============================] - 0s 22ms/step - loss: 1.6920 - val_loss: 16.6355\n",
      "Epoch 41/50\n",
      "1/1 [==============================] - 0s 23ms/step - loss: 1.6419 - val_loss: 16.8919\n",
      "Epoch 42/50\n",
      "1/1 [==============================] - 0s 23ms/step - loss: 1.5350 - val_loss: 17.3219\n",
      "Epoch 43/50\n",
      "1/1 [==============================] - 0s 23ms/step - loss: 1.4711 - val_loss: 17.7771\n",
      "Epoch 44/50\n",
      "1/1 [==============================] - 0s 23ms/step - loss: 1.4725 - val_loss: 18.0012\n",
      "Epoch 45/50\n",
      "1/1 [==============================] - 0s 24ms/step - loss: 1.4647 - val_loss: 17.8877\n",
      "Epoch 46/50\n",
      "1/1 [==============================] - 0s 23ms/step - loss: 1.4092 - val_loss: 17.5439\n",
      "Epoch 47/50\n",
      "1/1 [==============================] - 0s 24ms/step - loss: 1.3464 - val_loss: 17.2051\n",
      "Epoch 48/50\n",
      "1/1 [==============================] - 0s 23ms/step - loss: 1.3266 - val_loss: 17.0117\n",
      "Epoch 49/50\n",
      "1/1 [==============================] - 0s 22ms/step - loss: 1.3356 - val_loss: 17.0508\n",
      "Epoch 50/50\n",
      "1/1 [==============================] - 0s 22ms/step - loss: 1.3197 - val_loss: 17.2870\n"
     ]
    }
   ],
   "source": [
    "#데이터 타입 확인 및 변환: X_train과 y_train이 float 타입인지 확인하고, 아니라면 float 타입으로 변환\n",
    "X_train = X_train.astype('float32')\n",
    "y_train = y_train.astype('float32')\n",
    "X_test = X_test.astype('float32')\n",
    "\n",
    "# 모델을 학습합니다. 학습 데이터 중 20%는 검증용으로 사용\n",
    "history = model.fit(X_train, y_train, epochs=50, validation_split=0.2)"
   ]
  },
  {
   "cell_type": "code",
   "execution_count": 21,
   "metadata": {},
   "outputs": [
    {
     "name": "stdout",
     "output_type": "stream",
     "text": [
      "1/1 [==============================] - 0s 70ms/step\n"
     ]
    }
   ],
   "source": [
    "# 모델을 테스트 데이터로 평가합\n",
    "predictions = model.predict(X_test)"
   ]
  },
  {
   "cell_type": "code",
   "execution_count": 22,
   "metadata": {},
   "outputs": [],
   "source": [
    "# RMSE 값을 계산\n",
    "rmse = np.sqrt(mean_squared_error(y_test, predictions))"
   ]
  },
  {
   "cell_type": "code",
   "execution_count": 23,
   "metadata": {},
   "outputs": [],
   "source": [
    "# R2 스코어를 계산\n",
    "r2 = r2_score(y_test, predictions)"
   ]
  },
  {
   "cell_type": "code",
   "execution_count": 24,
   "metadata": {},
   "outputs": [
    {
     "name": "stdout",
     "output_type": "stream",
     "text": [
      "RMSE: 2.0115852605293756\n",
      "R2 Score: 0.3255874566034941\n"
     ]
    }
   ],
   "source": [
    "# 결과를 출력\n",
    "print(f'RMSE: {rmse}')\n",
    "print(f'R2 Score: {r2}')"
   ]
  },
  {
   "cell_type": "code",
   "execution_count": null,
   "metadata": {},
   "outputs": [],
   "source": []
  }
 ],
 "metadata": {
  "kernelspec": {
   "display_name": "ngf",
   "language": "python",
   "name": "python3"
  },
  "language_info": {
   "codemirror_mode": {
    "name": "ipython",
    "version": 3
   },
   "file_extension": ".py",
   "mimetype": "text/x-python",
   "name": "python",
   "nbconvert_exporter": "python",
   "pygments_lexer": "ipython3",
   "version": "3.8.17"
  },
  "orig_nbformat": 4,
  "vscode": {
   "interpreter": {
    "hash": "bc99eb67aa8ee7bc243fe64dcabfc05ee8ee9a737e17caf50f30dd3f4b2c138b"
   }
  }
 },
 "nbformat": 4,
 "nbformat_minor": 2
}
