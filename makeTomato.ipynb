{
 "cells": [
  {
   "cell_type": "code",
   "execution_count": 4,
   "metadata": {},
   "outputs": [],
   "source": [
    "import pandas as pd\n",
    "import random"
   ]
  },
  {
   "cell_type": "code",
   "execution_count": 5,
   "metadata": {},
   "outputs": [],
   "source": [
    "# 데이터 개수\n",
    "n = 10000"
   ]
  },
  {
   "cell_type": "code",
   "execution_count": 6,
   "metadata": {},
   "outputs": [],
   "source": [
    "# 데이터 생성\n",
    "temperature = [round(random.uniform(15, 30), 1) for _ in range(n)]  # 15~30도 사이"
   ]
  },
  {
   "cell_type": "code",
   "execution_count": 7,
   "metadata": {},
   "outputs": [],
   "source": [
    "humidity = [round(random.uniform(40, 80), 1) for _ in range(n)]  # 40~80% 사이\n"
   ]
  },
  {
   "cell_type": "code",
   "execution_count": 8,
   "metadata": {},
   "outputs": [],
   "source": [
    "soil_moisture = [round(random.uniform(30, 60), 1) for _ in range(n)]  # 30~60% 사이"
   ]
  },
  {
   "cell_type": "code",
   "execution_count": 9,
   "metadata": {},
   "outputs": [],
   "source": [
    "sunlight_hours = [round(random.uniform(8, 12), 1) for _ in range(n)]  # 8~12시간 사이"
   ]
  },
  {
   "cell_type": "code",
   "execution_count": 10,
   "metadata": {},
   "outputs": [],
   "source": [
    "yield_amount = [round(random.uniform(10, 20), 1) for _ in range(n)]  # 10~20kg 사이"
   ]
  },
  {
   "cell_type": "code",
   "execution_count": 11,
   "metadata": {},
   "outputs": [],
   "source": [
    "# 데이터프레임 생성\n",
    "df = pd.DataFrame({\n",
    "    'temperature': temperature,\n",
    "    'humidity': humidity,\n",
    "    'soil_moisture': soil_moisture,\n",
    "    'sunlight_hours': sunlight_hours,\n",
    "    'yield_amount': yield_amount\n",
    "})"
   ]
  },
  {
   "cell_type": "code",
   "execution_count": 12,
   "metadata": {},
   "outputs": [
    {
     "name": "stdout",
     "output_type": "stream",
     "text": [
      "      temperature  humidity  soil_moisture  sunlight_hours  yield_amount\n",
      "0            16.7      55.7           52.8             8.3          18.6\n",
      "1            27.2      79.3           31.6            10.0          14.2\n",
      "2            16.0      42.4           34.6            11.4          18.1\n",
      "3            25.3      78.8           57.4             9.5          15.7\n",
      "4            16.3      41.0           32.0             8.8          16.9\n",
      "...           ...       ...            ...             ...           ...\n",
      "9995         26.2      73.9           38.2            10.1          15.1\n",
      "9996         22.4      73.1           42.9             9.0          14.3\n",
      "9997         28.4      40.3           59.1            11.2          16.3\n",
      "9998         29.7      52.1           39.1             9.6          11.0\n",
      "9999         21.0      42.5           42.2             9.3          16.2\n",
      "\n",
      "[10000 rows x 5 columns]\n"
     ]
    }
   ],
   "source": [
    "print(df)"
   ]
  },
  {
   "cell_type": "code",
   "execution_count": null,
   "metadata": {},
   "outputs": [],
   "source": [
    "# CSV 파일로 저장\n",
    "df.to_csv('tomato_data.csv', index=False)"
   ]
  },
  {
   "cell_type": "code",
   "execution_count": null,
   "metadata": {},
   "outputs": [],
   "source": []
  }
 ],
 "metadata": {
  "kernelspec": {
   "display_name": "ngf",
   "language": "python",
   "name": "python3"
  },
  "language_info": {
   "codemirror_mode": {
    "name": "ipython",
    "version": 3
   },
   "file_extension": ".py",
   "mimetype": "text/x-python",
   "name": "python",
   "nbconvert_exporter": "python",
   "pygments_lexer": "ipython3",
   "version": "3.8.17"
  },
  "orig_nbformat": 4,
  "vscode": {
   "interpreter": {
    "hash": "bc99eb67aa8ee7bc243fe64dcabfc05ee8ee9a737e17caf50f30dd3f4b2c138b"
   }
  }
 },
 "nbformat": 4,
 "nbformat_minor": 2
}
